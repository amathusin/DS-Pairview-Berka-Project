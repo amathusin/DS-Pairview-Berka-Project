{
 "cells": [
  {
   "cell_type": "markdown",
   "metadata": {},
   "source": [
    "A Czech bank wants to improve its services by identifying who is a good client (whom to offer some additional services) and who is a bad client (whom to watch carefully to minimize the bank losses). The challenge is to use advanced data science tools and techniques to mine and analyze this bank's data in order to understand the most suitable customers to be offered a credit card product."
   ]
  },
  {
   "cell_type": "markdown",
   "metadata": {},
   "source": [
    "## Import & load"
   ]
  },
  {
   "cell_type": "code",
   "execution_count": 1,
   "metadata": {},
   "outputs": [
    {
     "name": "stderr",
     "output_type": "stream",
     "text": [
      "In C:\\Users\\amath\\Anaconda3\\lib\\site-packages\\matplotlib\\mpl-data\\stylelib\\_classic_test.mplstyle: \n",
      "The text.latex.preview rcparam was deprecated in Matplotlib 3.3 and will be removed two minor releases later.\n",
      "In C:\\Users\\amath\\Anaconda3\\lib\\site-packages\\matplotlib\\mpl-data\\stylelib\\_classic_test.mplstyle: \n",
      "The mathtext.fallback_to_cm rcparam was deprecated in Matplotlib 3.3 and will be removed two minor releases later.\n",
      "In C:\\Users\\amath\\Anaconda3\\lib\\site-packages\\matplotlib\\mpl-data\\stylelib\\_classic_test.mplstyle: Support for setting the 'mathtext.fallback_to_cm' rcParam is deprecated since 3.3 and will be removed two minor releases later; use 'mathtext.fallback : 'cm' instead.\n",
      "In C:\\Users\\amath\\Anaconda3\\lib\\site-packages\\matplotlib\\mpl-data\\stylelib\\_classic_test.mplstyle: \n",
      "The validate_bool_maybe_none function was deprecated in Matplotlib 3.3 and will be removed two minor releases later.\n",
      "In C:\\Users\\amath\\Anaconda3\\lib\\site-packages\\matplotlib\\mpl-data\\stylelib\\_classic_test.mplstyle: \n",
      "The savefig.jpeg_quality rcparam was deprecated in Matplotlib 3.3 and will be removed two minor releases later.\n",
      "In C:\\Users\\amath\\Anaconda3\\lib\\site-packages\\matplotlib\\mpl-data\\stylelib\\_classic_test.mplstyle: \n",
      "The keymap.all_axes rcparam was deprecated in Matplotlib 3.3 and will be removed two minor releases later.\n",
      "In C:\\Users\\amath\\Anaconda3\\lib\\site-packages\\matplotlib\\mpl-data\\stylelib\\_classic_test.mplstyle: \n",
      "The animation.avconv_path rcparam was deprecated in Matplotlib 3.3 and will be removed two minor releases later.\n",
      "In C:\\Users\\amath\\Anaconda3\\lib\\site-packages\\matplotlib\\mpl-data\\stylelib\\_classic_test.mplstyle: \n",
      "The animation.avconv_args rcparam was deprecated in Matplotlib 3.3 and will be removed two minor releases later.\n"
     ]
    }
   ],
   "source": [
    "# Basic Libraries\n",
    "\n",
    "import numpy as np\n",
    "import pandas as pd\n",
    "import matplotlib.pyplot as plt\n",
    "import seaborn as sns; sns.set()  # for plot styling \n",
    "\n",
    "\n",
    "# allows us to plot inline - overrides the Jupyter security feature for plotting (which would cause us to run cell twice)\n",
    "%matplotlib inline\n",
    "\n",
    "plt.rcParams['figure.figsize'] = (16, 9)\n",
    "plt.style.use('ggplot')"
   ]
  },
  {
   "cell_type": "code",
   "execution_count": 2,
   "metadata": {},
   "outputs": [],
   "source": [
    "# Machine Learning Modules from sklearn\n",
    "from sklearn.linear_model import LogisticRegression\n",
    "from sklearn.model_selection import train_test_split, GridSearchCV\n",
    "from sklearn.metrics import accuracy_score, roc_auc_score, confusion_matrix, precision_score, recall_score, classification_report\n",
    "from sklearn.preprocessing import LabelEncoder, OneHotEncoder, StandardScaler\n",
    "from sklearn.pipeline import FeatureUnion, make_pipeline\n",
    "from sklearn.cluster import KMeans\n",
    "from scipy import stats\n",
    "\n",
    "import pyodbc # for connecting to SQL from Python"
   ]
  },
  {
   "cell_type": "code",
   "execution_count": 3,
   "metadata": {},
   "outputs": [],
   "source": [
    "# establish an open connection to SQL\n",
    "conn = pyodbc.connect('Driver={SQL Server};'\n",
    "                      'Server=DESKTOP-QTJ8HHV;'\n",
    "                      'Database=Berka;'\n",
    "                      'Trusted_Connection=yes;')"
   ]
  },
  {
   "cell_type": "markdown",
   "metadata": {},
   "source": [
    "### Transaction (for exploration only)"
   ]
  },
  {
   "cell_type": "code",
   "execution_count": 4,
   "metadata": {},
   "outputs": [],
   "source": [
    "# import transaction table from SQL (Berka Database)\n",
    "\n",
    "pythonSQLobject=pd.read_sql_query(\"\"\"\n",
    "select *,\n",
    "CASE\n",
    "\tWHEN k_symbol = 'SIPO' THEN 'household payment'\n",
    "\tWHEN k_symbol = 'POJISTNE' THEN 'insurance payment'\n",
    "\tWHEN k_symbol = 'SLUZBY' THEN 'statement payment'\n",
    "\tWHEN k_symbol = 'UROK' THEN 'interest credited'\n",
    "\tWHEN k_symbol = 'SANKC. UROK' THEN 'interest debited'\n",
    "\tWHEN k_symbol = 'DUCHOD' THEN 'pension credited'\n",
    "\tWHEN k_symbol = 'UVER' THEN 'loan payment'\n",
    "END AS trans_type\n",
    "from [dbo].[trans]\n",
    "\"\"\", conn)"
   ]
  },
  {
   "cell_type": "code",
   "execution_count": 5,
   "metadata": {},
   "outputs": [],
   "source": [
    "transaction_table = pythonSQLobject"
   ]
  },
  {
   "cell_type": "code",
   "execution_count": 6,
   "metadata": {},
   "outputs": [
    {
     "data": {
      "text/html": [
       "<div>\n",
       "<style scoped>\n",
       "    .dataframe tbody tr th:only-of-type {\n",
       "        vertical-align: middle;\n",
       "    }\n",
       "\n",
       "    .dataframe tbody tr th {\n",
       "        vertical-align: top;\n",
       "    }\n",
       "\n",
       "    .dataframe thead th {\n",
       "        text-align: right;\n",
       "    }\n",
       "</style>\n",
       "<table border=\"1\" class=\"dataframe\">\n",
       "  <thead>\n",
       "    <tr style=\"text-align: right;\">\n",
       "      <th></th>\n",
       "      <th>trans_id</th>\n",
       "      <th>account_id</th>\n",
       "      <th>date</th>\n",
       "      <th>type</th>\n",
       "      <th>operation</th>\n",
       "      <th>amount</th>\n",
       "      <th>balance</th>\n",
       "      <th>k_symbol</th>\n",
       "      <th>bank</th>\n",
       "      <th>account</th>\n",
       "      <th>trans_type</th>\n",
       "    </tr>\n",
       "  </thead>\n",
       "  <tbody>\n",
       "    <tr>\n",
       "      <th>0</th>\n",
       "      <td>1</td>\n",
       "      <td>1</td>\n",
       "      <td>950324</td>\n",
       "      <td>PRIJEM</td>\n",
       "      <td>VKLAD</td>\n",
       "      <td>1000.0</td>\n",
       "      <td>1000.0</td>\n",
       "      <td>None</td>\n",
       "      <td>None</td>\n",
       "      <td>None</td>\n",
       "      <td>None</td>\n",
       "    </tr>\n",
       "    <tr>\n",
       "      <th>1</th>\n",
       "      <td>5</td>\n",
       "      <td>1</td>\n",
       "      <td>950413</td>\n",
       "      <td>PRIJEM</td>\n",
       "      <td>PREVOD Z UCTU</td>\n",
       "      <td>3679.0</td>\n",
       "      <td>4679.0</td>\n",
       "      <td>None</td>\n",
       "      <td>AB</td>\n",
       "      <td>41403269</td>\n",
       "      <td>None</td>\n",
       "    </tr>\n",
       "    <tr>\n",
       "      <th>2</th>\n",
       "      <td>6</td>\n",
       "      <td>1</td>\n",
       "      <td>950513</td>\n",
       "      <td>PRIJEM</td>\n",
       "      <td>PREVOD Z UCTU</td>\n",
       "      <td>3679.0</td>\n",
       "      <td>20977.2</td>\n",
       "      <td>None</td>\n",
       "      <td>AB</td>\n",
       "      <td>41403269</td>\n",
       "      <td>None</td>\n",
       "    </tr>\n",
       "    <tr>\n",
       "      <th>3</th>\n",
       "      <td>7</td>\n",
       "      <td>1</td>\n",
       "      <td>950613</td>\n",
       "      <td>PRIJEM</td>\n",
       "      <td>PREVOD Z UCTU</td>\n",
       "      <td>3679.0</td>\n",
       "      <td>26835.2</td>\n",
       "      <td>None</td>\n",
       "      <td>AB</td>\n",
       "      <td>41403269</td>\n",
       "      <td>None</td>\n",
       "    </tr>\n",
       "    <tr>\n",
       "      <th>4</th>\n",
       "      <td>8</td>\n",
       "      <td>1</td>\n",
       "      <td>950713</td>\n",
       "      <td>PRIJEM</td>\n",
       "      <td>PREVOD Z UCTU</td>\n",
       "      <td>3679.0</td>\n",
       "      <td>30414.8</td>\n",
       "      <td>None</td>\n",
       "      <td>AB</td>\n",
       "      <td>41403269</td>\n",
       "      <td>None</td>\n",
       "    </tr>\n",
       "  </tbody>\n",
       "</table>\n",
       "</div>"
      ],
      "text/plain": [
       "   trans_id  account_id    date    type      operation  amount  balance  \\\n",
       "0         1           1  950324  PRIJEM          VKLAD  1000.0   1000.0   \n",
       "1         5           1  950413  PRIJEM  PREVOD Z UCTU  3679.0   4679.0   \n",
       "2         6           1  950513  PRIJEM  PREVOD Z UCTU  3679.0  20977.2   \n",
       "3         7           1  950613  PRIJEM  PREVOD Z UCTU  3679.0  26835.2   \n",
       "4         8           1  950713  PRIJEM  PREVOD Z UCTU  3679.0  30414.8   \n",
       "\n",
       "  k_symbol  bank   account trans_type  \n",
       "0     None  None      None       None  \n",
       "1     None    AB  41403269       None  \n",
       "2     None    AB  41403269       None  \n",
       "3     None    AB  41403269       None  \n",
       "4     None    AB  41403269       None  "
      ]
     },
     "execution_count": 6,
     "metadata": {},
     "output_type": "execute_result"
    }
   ],
   "source": [
    "transaction_table.head()"
   ]
  },
  {
   "cell_type": "code",
   "execution_count": 7,
   "metadata": {},
   "outputs": [
    {
     "data": {
      "text/plain": [
       "(1056320, 11)"
      ]
     },
     "execution_count": 7,
     "metadata": {},
     "output_type": "execute_result"
    }
   ],
   "source": [
    "transaction_table.shape"
   ]
  },
  {
   "cell_type": "code",
   "execution_count": 8,
   "metadata": {},
   "outputs": [
    {
     "data": {
      "text/plain": [
       "trans_id           0\n",
       "account_id         0\n",
       "date               0\n",
       "type               0\n",
       "operation     183114\n",
       "amount             0\n",
       "balance            0\n",
       "k_symbol      481881\n",
       "bank          782812\n",
       "account       760931\n",
       "trans_type    535314\n",
       "dtype: int64"
      ]
     },
     "execution_count": 8,
     "metadata": {},
     "output_type": "execute_result"
    }
   ],
   "source": [
    "transaction_table.isna().sum()"
   ]
  },
  {
   "cell_type": "markdown",
   "metadata": {},
   "source": [
    "Half (535K) of trans_type values are missing. Similarly there's a lot missing data in 4 other columns (k_symbol, bank, account, trans_type).\n",
    "We decided to ignore these columns as we are more interested in the account balance after each transaction rather than the nature of them"
   ]
  },
  {
   "cell_type": "code",
   "execution_count": 9,
   "metadata": {},
   "outputs": [],
   "source": [
    "# check for duplicate rows\n",
    "\n",
    "boolean = transaction_table.duplicated().any()"
   ]
  },
  {
   "cell_type": "code",
   "execution_count": 10,
   "metadata": {},
   "outputs": [
    {
     "data": {
      "text/plain": [
       "False"
      ]
     },
     "execution_count": 10,
     "metadata": {},
     "output_type": "execute_result"
    }
   ],
   "source": [
    "boolean"
   ]
  },
  {
   "cell_type": "markdown",
   "metadata": {},
   "source": [
    "No duplicate rows found"
   ]
  },
  {
   "cell_type": "markdown",
   "metadata": {},
   "source": [
    "### Account"
   ]
  },
  {
   "cell_type": "code",
   "execution_count": 11,
   "metadata": {},
   "outputs": [],
   "source": [
    "pythonSQLobject=pd.read_sql_query(\"\"\"\n",
    "select c.client_id, min(a.date) date\n",
    "from [dbo].[account] as a\n",
    "left join [dbo].[disp] as d\n",
    "on a.account_id = d.account_id\n",
    "left join [dbo].[client] as c\n",
    "on c.client_id = d.client_id\n",
    "group by c.client_id\n",
    "\"\"\", conn)"
   ]
  },
  {
   "cell_type": "code",
   "execution_count": 12,
   "metadata": {},
   "outputs": [],
   "source": [
    "account_table = pythonSQLobject"
   ]
  },
  {
   "cell_type": "code",
   "execution_count": 13,
   "metadata": {},
   "outputs": [
    {
     "data": {
      "text/html": [
       "<div>\n",
       "<style scoped>\n",
       "    .dataframe tbody tr th:only-of-type {\n",
       "        vertical-align: middle;\n",
       "    }\n",
       "\n",
       "    .dataframe tbody tr th {\n",
       "        vertical-align: top;\n",
       "    }\n",
       "\n",
       "    .dataframe thead th {\n",
       "        text-align: right;\n",
       "    }\n",
       "</style>\n",
       "<table border=\"1\" class=\"dataframe\">\n",
       "  <thead>\n",
       "    <tr style=\"text-align: right;\">\n",
       "      <th></th>\n",
       "      <th>client_id</th>\n",
       "      <th>date</th>\n",
       "    </tr>\n",
       "  </thead>\n",
       "  <tbody>\n",
       "    <tr>\n",
       "      <th>0</th>\n",
       "      <td>1</td>\n",
       "      <td>1995-03-24</td>\n",
       "    </tr>\n",
       "    <tr>\n",
       "      <th>1</th>\n",
       "      <td>10</td>\n",
       "      <td>1995-09-21</td>\n",
       "    </tr>\n",
       "    <tr>\n",
       "      <th>2</th>\n",
       "      <td>100</td>\n",
       "      <td>1995-12-25</td>\n",
       "    </tr>\n",
       "    <tr>\n",
       "      <th>3</th>\n",
       "      <td>1000</td>\n",
       "      <td>1993-02-08</td>\n",
       "    </tr>\n",
       "    <tr>\n",
       "      <th>4</th>\n",
       "      <td>1001</td>\n",
       "      <td>1996-09-18</td>\n",
       "    </tr>\n",
       "  </tbody>\n",
       "</table>\n",
       "</div>"
      ],
      "text/plain": [
       "  client_id       date\n",
       "0         1 1995-03-24\n",
       "1        10 1995-09-21\n",
       "2       100 1995-12-25\n",
       "3      1000 1993-02-08\n",
       "4      1001 1996-09-18"
      ]
     },
     "execution_count": 13,
     "metadata": {},
     "output_type": "execute_result"
    }
   ],
   "source": [
    "account_table.date = pd.to_datetime(account_table.date, format='%y%m%d')\n",
    "account_table.head()"
   ]
  },
  {
   "cell_type": "markdown",
   "metadata": {},
   "source": [
    "### Balance"
   ]
  },
  {
   "cell_type": "code",
   "execution_count": 14,
   "metadata": {},
   "outputs": [],
   "source": [
    "# pull average balance per transaction per customer via SQL query\n",
    "\n",
    "pythonSQLobject=pd.read_sql_query(\"\"\"\n",
    "select c.client_id, sum(t.balance) balance, MAX(t.date) max_date\n",
    "from [dbo].[trans] as t\n",
    "left join [dbo].[account] as a\n",
    "on t.account_id = a.account_id\n",
    "left join [dbo].[disp] as d\n",
    "on d.account_id = a.account_id\n",
    "left join [dbo].[client] as c\n",
    "on c.client_id = d.client_id\n",
    "GROUP BY c.client_id\n",
    "ORDER BY AVG(t.balance)/count(t.trans_id) desc\n",
    "\"\"\", conn)"
   ]
  },
  {
   "cell_type": "code",
   "execution_count": 15,
   "metadata": {},
   "outputs": [],
   "source": [
    "balance_table= pythonSQLobject # assign read object to variable"
   ]
  },
  {
   "cell_type": "code",
   "execution_count": 16,
   "metadata": {},
   "outputs": [],
   "source": [
    "balance_table.max_date = pd.to_datetime(balance_table.max_date, format='%y%m%d')"
   ]
  },
  {
   "cell_type": "code",
   "execution_count": 17,
   "metadata": {},
   "outputs": [
    {
     "data": {
      "text/html": [
       "<div>\n",
       "<style scoped>\n",
       "    .dataframe tbody tr th:only-of-type {\n",
       "        vertical-align: middle;\n",
       "    }\n",
       "\n",
       "    .dataframe tbody tr th {\n",
       "        vertical-align: top;\n",
       "    }\n",
       "\n",
       "    .dataframe thead th {\n",
       "        text-align: right;\n",
       "    }\n",
       "</style>\n",
       "<table border=\"1\" class=\"dataframe\">\n",
       "  <thead>\n",
       "    <tr style=\"text-align: right;\">\n",
       "      <th></th>\n",
       "      <th>client_id</th>\n",
       "      <th>balance</th>\n",
       "      <th>max_date</th>\n",
       "    </tr>\n",
       "  </thead>\n",
       "  <tbody>\n",
       "    <tr>\n",
       "      <th>0</th>\n",
       "      <td>872</td>\n",
       "      <td>241300.0</td>\n",
       "      <td>1998-11-20</td>\n",
       "    </tr>\n",
       "    <tr>\n",
       "      <th>1</th>\n",
       "      <td>3495</td>\n",
       "      <td>294400.0</td>\n",
       "      <td>1998-12-11</td>\n",
       "    </tr>\n",
       "    <tr>\n",
       "      <th>2</th>\n",
       "      <td>3496</td>\n",
       "      <td>294400.0</td>\n",
       "      <td>1998-12-11</td>\n",
       "    </tr>\n",
       "    <tr>\n",
       "      <th>3</th>\n",
       "      <td>1763</td>\n",
       "      <td>497500.0</td>\n",
       "      <td>1998-11-17</td>\n",
       "    </tr>\n",
       "    <tr>\n",
       "      <th>4</th>\n",
       "      <td>908</td>\n",
       "      <td>242000.0</td>\n",
       "      <td>1998-11-14</td>\n",
       "    </tr>\n",
       "  </tbody>\n",
       "</table>\n",
       "</div>"
      ],
      "text/plain": [
       "  client_id   balance   max_date\n",
       "0       872  241300.0 1998-11-20\n",
       "1      3495  294400.0 1998-12-11\n",
       "2      3496  294400.0 1998-12-11\n",
       "3      1763  497500.0 1998-11-17\n",
       "4       908  242000.0 1998-11-14"
      ]
     },
     "execution_count": 17,
     "metadata": {},
     "output_type": "execute_result"
    }
   ],
   "source": [
    "balance_table.head()"
   ]
  },
  {
   "cell_type": "markdown",
   "metadata": {},
   "source": [
    "### Income"
   ]
  },
  {
   "cell_type": "code",
   "execution_count": 18,
   "metadata": {},
   "outputs": [],
   "source": [
    "pythonSQLobject=pd.read_sql_query(\"\"\"\n",
    "select c.client_id, sum(amount) income\n",
    "from [dbo].[trans] as t\n",
    "left join [dbo].[account] as a\n",
    "on t.account_id = a.account_id\n",
    "left join [dbo].[disp] as d\n",
    "on d.account_id = a.account_id\n",
    "left join [dbo].[client] as c\n",
    "on c.client_id = d.client_id\n",
    "GROUP BY c.client_id, t.type\n",
    "having t.type = 'PRIJEM'\n",
    "\"\"\", conn)\n"
   ]
  },
  {
   "cell_type": "code",
   "execution_count": 19,
   "metadata": {},
   "outputs": [],
   "source": [
    "income_table = pythonSQLobject"
   ]
  },
  {
   "cell_type": "markdown",
   "metadata": {},
   "source": [
    "### Spending"
   ]
  },
  {
   "cell_type": "code",
   "execution_count": 20,
   "metadata": {},
   "outputs": [],
   "source": [
    "pythonSQLobject=pd.read_sql_query(\"\"\"\n",
    "select c.client_id, avg(amount) spending\n",
    "from [dbo].[trans] as t\n",
    "left join [dbo].[account] as a\n",
    "on t.account_id = a.account_id\n",
    "left join [dbo].[disp] as d\n",
    "on d.account_id = a.account_id\n",
    "left join [dbo].[client] as c\n",
    "on c.client_id = d.client_id\n",
    "GROUP BY c.client_id, t.type\n",
    "having t.type = 'VYDAJ'\n",
    "\"\"\", conn)"
   ]
  },
  {
   "cell_type": "code",
   "execution_count": 21,
   "metadata": {},
   "outputs": [],
   "source": [
    "spending_table = pythonSQLobject"
   ]
  },
  {
   "cell_type": "markdown",
   "metadata": {},
   "source": [
    "### Transaction: Account + Income + Spending + Balance"
   ]
  },
  {
   "cell_type": "code",
   "execution_count": 22,
   "metadata": {},
   "outputs": [],
   "source": [
    "trans_table = balance_table.merge(income_table)"
   ]
  },
  {
   "cell_type": "code",
   "execution_count": 23,
   "metadata": {},
   "outputs": [
    {
     "data": {
      "text/html": [
       "<div>\n",
       "<style scoped>\n",
       "    .dataframe tbody tr th:only-of-type {\n",
       "        vertical-align: middle;\n",
       "    }\n",
       "\n",
       "    .dataframe tbody tr th {\n",
       "        vertical-align: top;\n",
       "    }\n",
       "\n",
       "    .dataframe thead th {\n",
       "        text-align: right;\n",
       "    }\n",
       "</style>\n",
       "<table border=\"1\" class=\"dataframe\">\n",
       "  <thead>\n",
       "    <tr style=\"text-align: right;\">\n",
       "      <th></th>\n",
       "      <th>client_id</th>\n",
       "      <th>balance</th>\n",
       "      <th>max_date</th>\n",
       "      <th>income</th>\n",
       "      <th>spending</th>\n",
       "    </tr>\n",
       "  </thead>\n",
       "  <tbody>\n",
       "    <tr>\n",
       "      <th>0</th>\n",
       "      <td>872</td>\n",
       "      <td>241300.0</td>\n",
       "      <td>1998-11-20</td>\n",
       "      <td>34000.0</td>\n",
       "      <td>700.000000</td>\n",
       "    </tr>\n",
       "    <tr>\n",
       "      <th>1</th>\n",
       "      <td>3495</td>\n",
       "      <td>294400.0</td>\n",
       "      <td>1998-12-11</td>\n",
       "      <td>39300.0</td>\n",
       "      <td>1400.000000</td>\n",
       "    </tr>\n",
       "    <tr>\n",
       "      <th>2</th>\n",
       "      <td>3496</td>\n",
       "      <td>294400.0</td>\n",
       "      <td>1998-12-11</td>\n",
       "      <td>39300.0</td>\n",
       "      <td>1400.000000</td>\n",
       "    </tr>\n",
       "    <tr>\n",
       "      <th>3</th>\n",
       "      <td>1763</td>\n",
       "      <td>497500.0</td>\n",
       "      <td>1998-11-17</td>\n",
       "      <td>40100.0</td>\n",
       "      <td>1633.333333</td>\n",
       "    </tr>\n",
       "    <tr>\n",
       "      <th>4</th>\n",
       "      <td>908</td>\n",
       "      <td>242000.0</td>\n",
       "      <td>1998-11-14</td>\n",
       "      <td>34800.0</td>\n",
       "      <td>2000.000000</td>\n",
       "    </tr>\n",
       "  </tbody>\n",
       "</table>\n",
       "</div>"
      ],
      "text/plain": [
       "  client_id   balance   max_date   income     spending\n",
       "0       872  241300.0 1998-11-20  34000.0   700.000000\n",
       "1      3495  294400.0 1998-12-11  39300.0  1400.000000\n",
       "2      3496  294400.0 1998-12-11  39300.0  1400.000000\n",
       "3      1763  497500.0 1998-11-17  40100.0  1633.333333\n",
       "4       908  242000.0 1998-11-14  34800.0  2000.000000"
      ]
     },
     "execution_count": 23,
     "metadata": {},
     "output_type": "execute_result"
    }
   ],
   "source": [
    "trans_table = trans_table.merge(spending_table)\n",
    "trans_table.head()"
   ]
  },
  {
   "cell_type": "code",
   "execution_count": 24,
   "metadata": {},
   "outputs": [
    {
     "name": "stdout",
     "output_type": "stream",
     "text": [
      "<class 'pandas.core.frame.DataFrame'>\n",
      "Int64Index: 5369 entries, 0 to 5368\n",
      "Data columns (total 6 columns):\n",
      " #   Column     Non-Null Count  Dtype         \n",
      "---  ------     --------------  -----         \n",
      " 0   client_id  5369 non-null   object        \n",
      " 1   balance    5369 non-null   float64       \n",
      " 2   max_date   5369 non-null   datetime64[ns]\n",
      " 3   income     5369 non-null   float64       \n",
      " 4   spending   5369 non-null   float64       \n",
      " 5   date       5369 non-null   datetime64[ns]\n",
      "dtypes: datetime64[ns](2), float64(3), object(1)\n",
      "memory usage: 293.6+ KB\n"
     ]
    }
   ],
   "source": [
    "trans_table = trans_table.merge(account_table)\n",
    "trans_table.info()"
   ]
  },
  {
   "cell_type": "code",
   "execution_count": 25,
   "metadata": {},
   "outputs": [
    {
     "data": {
      "text/html": [
       "<div>\n",
       "<style scoped>\n",
       "    .dataframe tbody tr th:only-of-type {\n",
       "        vertical-align: middle;\n",
       "    }\n",
       "\n",
       "    .dataframe tbody tr th {\n",
       "        vertical-align: top;\n",
       "    }\n",
       "\n",
       "    .dataframe thead th {\n",
       "        text-align: right;\n",
       "    }\n",
       "</style>\n",
       "<table border=\"1\" class=\"dataframe\">\n",
       "  <thead>\n",
       "    <tr style=\"text-align: right;\">\n",
       "      <th></th>\n",
       "      <th>client_id</th>\n",
       "      <th>balance</th>\n",
       "      <th>max_date</th>\n",
       "      <th>income</th>\n",
       "      <th>spending</th>\n",
       "      <th>date</th>\n",
       "      <th>total_days</th>\n",
       "      <th>total_months</th>\n",
       "    </tr>\n",
       "  </thead>\n",
       "  <tbody>\n",
       "    <tr>\n",
       "      <th>0</th>\n",
       "      <td>872</td>\n",
       "      <td>241300.0</td>\n",
       "      <td>1998-11-20</td>\n",
       "      <td>34000.0</td>\n",
       "      <td>700.000000</td>\n",
       "      <td>1997-12-25</td>\n",
       "      <td>330</td>\n",
       "      <td>11.0</td>\n",
       "    </tr>\n",
       "    <tr>\n",
       "      <th>1</th>\n",
       "      <td>3495</td>\n",
       "      <td>294400.0</td>\n",
       "      <td>1998-12-11</td>\n",
       "      <td>39300.0</td>\n",
       "      <td>1400.000000</td>\n",
       "      <td>1997-12-16</td>\n",
       "      <td>360</td>\n",
       "      <td>12.0</td>\n",
       "    </tr>\n",
       "    <tr>\n",
       "      <th>2</th>\n",
       "      <td>3496</td>\n",
       "      <td>294400.0</td>\n",
       "      <td>1998-12-11</td>\n",
       "      <td>39300.0</td>\n",
       "      <td>1400.000000</td>\n",
       "      <td>1997-12-16</td>\n",
       "      <td>360</td>\n",
       "      <td>12.0</td>\n",
       "    </tr>\n",
       "    <tr>\n",
       "      <th>3</th>\n",
       "      <td>1763</td>\n",
       "      <td>497500.0</td>\n",
       "      <td>1998-11-17</td>\n",
       "      <td>40100.0</td>\n",
       "      <td>1633.333333</td>\n",
       "      <td>1997-07-25</td>\n",
       "      <td>480</td>\n",
       "      <td>16.0</td>\n",
       "    </tr>\n",
       "    <tr>\n",
       "      <th>4</th>\n",
       "      <td>908</td>\n",
       "      <td>242000.0</td>\n",
       "      <td>1998-11-14</td>\n",
       "      <td>34800.0</td>\n",
       "      <td>2000.000000</td>\n",
       "      <td>1997-12-19</td>\n",
       "      <td>330</td>\n",
       "      <td>11.0</td>\n",
       "    </tr>\n",
       "  </tbody>\n",
       "</table>\n",
       "</div>"
      ],
      "text/plain": [
       "  client_id   balance   max_date   income     spending       date  total_days  \\\n",
       "0       872  241300.0 1998-11-20  34000.0   700.000000 1997-12-25         330   \n",
       "1      3495  294400.0 1998-12-11  39300.0  1400.000000 1997-12-16         360   \n",
       "2      3496  294400.0 1998-12-11  39300.0  1400.000000 1997-12-16         360   \n",
       "3      1763  497500.0 1998-11-17  40100.0  1633.333333 1997-07-25         480   \n",
       "4       908  242000.0 1998-11-14  34800.0  2000.000000 1997-12-19         330   \n",
       "\n",
       "   total_months  \n",
       "0          11.0  \n",
       "1          12.0  \n",
       "2          12.0  \n",
       "3          16.0  \n",
       "4          11.0  "
      ]
     },
     "execution_count": 25,
     "metadata": {},
     "output_type": "execute_result"
    }
   ],
   "source": [
    "# calculate no. of months\n",
    "trans_table['total_days'] = trans_table['max_date']  - trans_table['date'] # total days in deltatime\n",
    "trans_table['total_days'] = (trans_table['total_days']/ np.timedelta64(1, 'D')).astype(int) # total days converted to int\n",
    "trans_table['total_months'] = trans_table['total_days']/30.0 # convert days to months\n",
    "    \n",
    "trans_table.head()"
   ]
  },
  {
   "cell_type": "code",
   "execution_count": 26,
   "metadata": {},
   "outputs": [
    {
     "data": {
      "text/html": [
       "<div>\n",
       "<style scoped>\n",
       "    .dataframe tbody tr th:only-of-type {\n",
       "        vertical-align: middle;\n",
       "    }\n",
       "\n",
       "    .dataframe tbody tr th {\n",
       "        vertical-align: top;\n",
       "    }\n",
       "\n",
       "    .dataframe thead th {\n",
       "        text-align: right;\n",
       "    }\n",
       "</style>\n",
       "<table border=\"1\" class=\"dataframe\">\n",
       "  <thead>\n",
       "    <tr style=\"text-align: right;\">\n",
       "      <th></th>\n",
       "      <th>client_id</th>\n",
       "      <th>balance</th>\n",
       "      <th>max_date</th>\n",
       "      <th>income</th>\n",
       "      <th>spending</th>\n",
       "      <th>date</th>\n",
       "      <th>total_days</th>\n",
       "      <th>total_months</th>\n",
       "      <th>monthly_income</th>\n",
       "      <th>monthly_spending</th>\n",
       "      <th>daily_balance</th>\n",
       "    </tr>\n",
       "  </thead>\n",
       "  <tbody>\n",
       "    <tr>\n",
       "      <th>0</th>\n",
       "      <td>872</td>\n",
       "      <td>241300.0</td>\n",
       "      <td>1998-11-20</td>\n",
       "      <td>34000.0</td>\n",
       "      <td>700.000000</td>\n",
       "      <td>1997-12-25</td>\n",
       "      <td>330</td>\n",
       "      <td>11.0</td>\n",
       "      <td>3090.909091</td>\n",
       "      <td>63.636364</td>\n",
       "      <td>731.212121</td>\n",
       "    </tr>\n",
       "    <tr>\n",
       "      <th>1</th>\n",
       "      <td>3495</td>\n",
       "      <td>294400.0</td>\n",
       "      <td>1998-12-11</td>\n",
       "      <td>39300.0</td>\n",
       "      <td>1400.000000</td>\n",
       "      <td>1997-12-16</td>\n",
       "      <td>360</td>\n",
       "      <td>12.0</td>\n",
       "      <td>3275.000000</td>\n",
       "      <td>116.666667</td>\n",
       "      <td>817.777778</td>\n",
       "    </tr>\n",
       "    <tr>\n",
       "      <th>2</th>\n",
       "      <td>3496</td>\n",
       "      <td>294400.0</td>\n",
       "      <td>1998-12-11</td>\n",
       "      <td>39300.0</td>\n",
       "      <td>1400.000000</td>\n",
       "      <td>1997-12-16</td>\n",
       "      <td>360</td>\n",
       "      <td>12.0</td>\n",
       "      <td>3275.000000</td>\n",
       "      <td>116.666667</td>\n",
       "      <td>817.777778</td>\n",
       "    </tr>\n",
       "    <tr>\n",
       "      <th>3</th>\n",
       "      <td>1763</td>\n",
       "      <td>497500.0</td>\n",
       "      <td>1998-11-17</td>\n",
       "      <td>40100.0</td>\n",
       "      <td>1633.333333</td>\n",
       "      <td>1997-07-25</td>\n",
       "      <td>480</td>\n",
       "      <td>16.0</td>\n",
       "      <td>2506.250000</td>\n",
       "      <td>102.083333</td>\n",
       "      <td>1036.458333</td>\n",
       "    </tr>\n",
       "    <tr>\n",
       "      <th>4</th>\n",
       "      <td>908</td>\n",
       "      <td>242000.0</td>\n",
       "      <td>1998-11-14</td>\n",
       "      <td>34800.0</td>\n",
       "      <td>2000.000000</td>\n",
       "      <td>1997-12-19</td>\n",
       "      <td>330</td>\n",
       "      <td>11.0</td>\n",
       "      <td>3163.636364</td>\n",
       "      <td>181.818182</td>\n",
       "      <td>733.333333</td>\n",
       "    </tr>\n",
       "  </tbody>\n",
       "</table>\n",
       "</div>"
      ],
      "text/plain": [
       "  client_id   balance   max_date   income     spending       date  total_days  \\\n",
       "0       872  241300.0 1998-11-20  34000.0   700.000000 1997-12-25         330   \n",
       "1      3495  294400.0 1998-12-11  39300.0  1400.000000 1997-12-16         360   \n",
       "2      3496  294400.0 1998-12-11  39300.0  1400.000000 1997-12-16         360   \n",
       "3      1763  497500.0 1998-11-17  40100.0  1633.333333 1997-07-25         480   \n",
       "4       908  242000.0 1998-11-14  34800.0  2000.000000 1997-12-19         330   \n",
       "\n",
       "   total_months  monthly_income  monthly_spending  daily_balance  \n",
       "0          11.0     3090.909091         63.636364     731.212121  \n",
       "1          12.0     3275.000000        116.666667     817.777778  \n",
       "2          12.0     3275.000000        116.666667     817.777778  \n",
       "3          16.0     2506.250000        102.083333    1036.458333  \n",
       "4          11.0     3163.636364        181.818182     733.333333  "
      ]
     },
     "execution_count": 26,
     "metadata": {},
     "output_type": "execute_result"
    }
   ],
   "source": [
    "# calculate income & spending by month\n",
    "\n",
    "trans_table['monthly_income'] = trans_table['income']/trans_table['total_months']\n",
    "trans_table['monthly_spending'] = trans_table['spending']/trans_table['total_months']\n",
    "trans_table['daily_balance'] = trans_table['balance']/trans_table['total_days']\n",
    "\n",
    "trans_table.head()"
   ]
  },
  {
   "cell_type": "code",
   "execution_count": 27,
   "metadata": {},
   "outputs": [
    {
     "data": {
      "text/plain": [
       "count     5369.000000\n",
       "mean      7029.858862\n",
       "std       3906.014140\n",
       "min        211.176471\n",
       "25%       3868.316461\n",
       "50%       6388.536013\n",
       "75%       9348.393120\n",
       "max      26297.662332\n",
       "Name: daily_balance, dtype: float64"
      ]
     },
     "execution_count": 27,
     "metadata": {},
     "output_type": "execute_result"
    }
   ],
   "source": [
    "trans_table['daily_balance'].describe()"
   ]
  },
  {
   "cell_type": "code",
   "execution_count": 28,
   "metadata": {},
   "outputs": [
    {
     "data": {
      "text/html": [
       "<div>\n",
       "<style scoped>\n",
       "    .dataframe tbody tr th:only-of-type {\n",
       "        vertical-align: middle;\n",
       "    }\n",
       "\n",
       "    .dataframe tbody tr th {\n",
       "        vertical-align: top;\n",
       "    }\n",
       "\n",
       "    .dataframe thead th {\n",
       "        text-align: right;\n",
       "    }\n",
       "</style>\n",
       "<table border=\"1\" class=\"dataframe\">\n",
       "  <thead>\n",
       "    <tr style=\"text-align: right;\">\n",
       "      <th></th>\n",
       "      <th>client_id</th>\n",
       "      <th>monthly_income</th>\n",
       "      <th>monthly_spending</th>\n",
       "      <th>daily_balance</th>\n",
       "    </tr>\n",
       "  </thead>\n",
       "  <tbody>\n",
       "    <tr>\n",
       "      <th>0</th>\n",
       "      <td>872</td>\n",
       "      <td>3090.909091</td>\n",
       "      <td>63.636364</td>\n",
       "      <td>731.212121</td>\n",
       "    </tr>\n",
       "    <tr>\n",
       "      <th>1</th>\n",
       "      <td>3495</td>\n",
       "      <td>3275.000000</td>\n",
       "      <td>116.666667</td>\n",
       "      <td>817.777778</td>\n",
       "    </tr>\n",
       "    <tr>\n",
       "      <th>2</th>\n",
       "      <td>3496</td>\n",
       "      <td>3275.000000</td>\n",
       "      <td>116.666667</td>\n",
       "      <td>817.777778</td>\n",
       "    </tr>\n",
       "    <tr>\n",
       "      <th>3</th>\n",
       "      <td>1763</td>\n",
       "      <td>2506.250000</td>\n",
       "      <td>102.083333</td>\n",
       "      <td>1036.458333</td>\n",
       "    </tr>\n",
       "    <tr>\n",
       "      <th>4</th>\n",
       "      <td>908</td>\n",
       "      <td>3163.636364</td>\n",
       "      <td>181.818182</td>\n",
       "      <td>733.333333</td>\n",
       "    </tr>\n",
       "  </tbody>\n",
       "</table>\n",
       "</div>"
      ],
      "text/plain": [
       "  client_id  monthly_income  monthly_spending  daily_balance\n",
       "0       872     3090.909091         63.636364     731.212121\n",
       "1      3495     3275.000000        116.666667     817.777778\n",
       "2      3496     3275.000000        116.666667     817.777778\n",
       "3      1763     2506.250000        102.083333    1036.458333\n",
       "4       908     3163.636364        181.818182     733.333333"
      ]
     },
     "execution_count": 28,
     "metadata": {},
     "output_type": "execute_result"
    }
   ],
   "source": [
    "trans_table = trans_table.drop(['date', 'spending', 'income','max_date','total_days', 'total_months', 'balance'], axis=1)\n",
    "trans_table.head()"
   ]
  },
  {
   "cell_type": "markdown",
   "metadata": {},
   "source": [
    "### Loan"
   ]
  },
  {
   "cell_type": "code",
   "execution_count": 29,
   "metadata": {},
   "outputs": [],
   "source": [
    "# pull loan data from SQL (Czech bank, Berka Database)\n",
    "\n",
    "pythonSQLobject=pd.read_sql_query(\"\"\"\n",
    "select l.loan_id, c.client_id, l.status, l.duration, l.date\n",
    "from [dbo].[loan] as l\n",
    "left join [dbo].[account] as a\n",
    "on l.account_id = a.account_id\n",
    "left join [dbo].[disp] as d\n",
    "on d.account_id = a.account_id\n",
    "left join [dbo].[client] as c\n",
    "on c.client_id = d.client_id\n",
    "\"\"\", conn)"
   ]
  },
  {
   "cell_type": "code",
   "execution_count": 30,
   "metadata": {},
   "outputs": [],
   "source": [
    "loan_table= pythonSQLobject # assign read object to variable"
   ]
  },
  {
   "cell_type": "code",
   "execution_count": 31,
   "metadata": {},
   "outputs": [
    {
     "data": {
      "text/html": [
       "<div>\n",
       "<style scoped>\n",
       "    .dataframe tbody tr th:only-of-type {\n",
       "        vertical-align: middle;\n",
       "    }\n",
       "\n",
       "    .dataframe tbody tr th {\n",
       "        vertical-align: top;\n",
       "    }\n",
       "\n",
       "    .dataframe thead th {\n",
       "        text-align: right;\n",
       "    }\n",
       "</style>\n",
       "<table border=\"1\" class=\"dataframe\">\n",
       "  <thead>\n",
       "    <tr style=\"text-align: right;\">\n",
       "      <th></th>\n",
       "      <th>loan_id</th>\n",
       "      <th>client_id</th>\n",
       "      <th>status</th>\n",
       "      <th>duration</th>\n",
       "      <th>date</th>\n",
       "    </tr>\n",
       "  </thead>\n",
       "  <tbody>\n",
       "    <tr>\n",
       "      <th>0</th>\n",
       "      <td>4959</td>\n",
       "      <td>2</td>\n",
       "      <td>A</td>\n",
       "      <td>24</td>\n",
       "      <td>940105</td>\n",
       "    </tr>\n",
       "    <tr>\n",
       "      <th>1</th>\n",
       "      <td>4959</td>\n",
       "      <td>3</td>\n",
       "      <td>A</td>\n",
       "      <td>24</td>\n",
       "      <td>940105</td>\n",
       "    </tr>\n",
       "    <tr>\n",
       "      <th>2</th>\n",
       "      <td>4961</td>\n",
       "      <td>25</td>\n",
       "      <td>B</td>\n",
       "      <td>12</td>\n",
       "      <td>960429</td>\n",
       "    </tr>\n",
       "    <tr>\n",
       "      <th>3</th>\n",
       "      <td>4962</td>\n",
       "      <td>31</td>\n",
       "      <td>A</td>\n",
       "      <td>12</td>\n",
       "      <td>971208</td>\n",
       "    </tr>\n",
       "    <tr>\n",
       "      <th>4</th>\n",
       "      <td>4967</td>\n",
       "      <td>45</td>\n",
       "      <td>D</td>\n",
       "      <td>60</td>\n",
       "      <td>981014</td>\n",
       "    </tr>\n",
       "  </tbody>\n",
       "</table>\n",
       "</div>"
      ],
      "text/plain": [
       "   loan_id client_id status  duration    date\n",
       "0     4959         2      A        24  940105\n",
       "1     4959         3      A        24  940105\n",
       "2     4961        25      B        12  960429\n",
       "3     4962        31      A        12  971208\n",
       "4     4967        45      D        60  981014"
      ]
     },
     "execution_count": 31,
     "metadata": {},
     "output_type": "execute_result"
    }
   ],
   "source": [
    "loan_table.head()"
   ]
  },
  {
   "cell_type": "code",
   "execution_count": 32,
   "metadata": {},
   "outputs": [
    {
     "data": {
      "text/plain": [
       "loan_id      0\n",
       "client_id    0\n",
       "status       0\n",
       "duration     0\n",
       "date         0\n",
       "dtype: int64"
      ]
     },
     "execution_count": 32,
     "metadata": {},
     "output_type": "execute_result"
    }
   ],
   "source": [
    "# check for missing values\n",
    "\n",
    "loan_table.isna().sum()"
   ]
  },
  {
   "cell_type": "code",
   "execution_count": 33,
   "metadata": {},
   "outputs": [
    {
     "data": {
      "text/plain": [
       "False"
      ]
     },
     "execution_count": 33,
     "metadata": {},
     "output_type": "execute_result"
    }
   ],
   "source": [
    "# check for duplicates\n",
    "\n",
    "boolean = loan_table.duplicated().any()\n",
    "boolean"
   ]
  },
  {
   "cell_type": "markdown",
   "metadata": {},
   "source": [
    "No missing data & no duplicates in the loan table"
   ]
  },
  {
   "cell_type": "code",
   "execution_count": 34,
   "metadata": {},
   "outputs": [],
   "source": [
    "loan_table.date = pd.to_datetime(loan_table.date, format='%y%m%d')"
   ]
  },
  {
   "cell_type": "code",
   "execution_count": 35,
   "metadata": {},
   "outputs": [],
   "source": [
    "today_date = balance_table['max_date'].max()"
   ]
  },
  {
   "cell_type": "code",
   "execution_count": 36,
   "metadata": {},
   "outputs": [
    {
     "data": {
      "text/plain": [
       "Timestamp('1998-12-31 00:00:00')"
      ]
     },
     "execution_count": 36,
     "metadata": {},
     "output_type": "execute_result"
    }
   ],
   "source": [
    "today_date"
   ]
  },
  {
   "cell_type": "code",
   "execution_count": 37,
   "metadata": {},
   "outputs": [],
   "source": [
    "loan_table['days_issued'] = today_date  - loan_table['date']\n",
    "loan_table['days_issued'] = (loan_table['days_issued']/ np.timedelta64(1, 'D')).astype(int)\n"
   ]
  },
  {
   "cell_type": "code",
   "execution_count": 38,
   "metadata": {},
   "outputs": [
    {
     "data": {
      "text/html": [
       "<div>\n",
       "<style scoped>\n",
       "    .dataframe tbody tr th:only-of-type {\n",
       "        vertical-align: middle;\n",
       "    }\n",
       "\n",
       "    .dataframe tbody tr th {\n",
       "        vertical-align: top;\n",
       "    }\n",
       "\n",
       "    .dataframe thead th {\n",
       "        text-align: right;\n",
       "    }\n",
       "</style>\n",
       "<table border=\"1\" class=\"dataframe\">\n",
       "  <thead>\n",
       "    <tr style=\"text-align: right;\">\n",
       "      <th></th>\n",
       "      <th>loan_id</th>\n",
       "      <th>client_id</th>\n",
       "      <th>status</th>\n",
       "      <th>duration</th>\n",
       "      <th>date</th>\n",
       "      <th>days_issued</th>\n",
       "      <th>months_left</th>\n",
       "    </tr>\n",
       "  </thead>\n",
       "  <tbody>\n",
       "    <tr>\n",
       "      <th>0</th>\n",
       "      <td>4959</td>\n",
       "      <td>2</td>\n",
       "      <td>A</td>\n",
       "      <td>24</td>\n",
       "      <td>1994-01-05</td>\n",
       "      <td>1821</td>\n",
       "      <td>-36.700000</td>\n",
       "    </tr>\n",
       "    <tr>\n",
       "      <th>1</th>\n",
       "      <td>4959</td>\n",
       "      <td>3</td>\n",
       "      <td>A</td>\n",
       "      <td>24</td>\n",
       "      <td>1994-01-05</td>\n",
       "      <td>1821</td>\n",
       "      <td>-36.700000</td>\n",
       "    </tr>\n",
       "    <tr>\n",
       "      <th>2</th>\n",
       "      <td>4961</td>\n",
       "      <td>25</td>\n",
       "      <td>B</td>\n",
       "      <td>12</td>\n",
       "      <td>1996-04-29</td>\n",
       "      <td>976</td>\n",
       "      <td>-20.533333</td>\n",
       "    </tr>\n",
       "    <tr>\n",
       "      <th>3</th>\n",
       "      <td>4962</td>\n",
       "      <td>31</td>\n",
       "      <td>A</td>\n",
       "      <td>12</td>\n",
       "      <td>1997-12-08</td>\n",
       "      <td>388</td>\n",
       "      <td>-0.933333</td>\n",
       "    </tr>\n",
       "    <tr>\n",
       "      <th>4</th>\n",
       "      <td>4967</td>\n",
       "      <td>45</td>\n",
       "      <td>D</td>\n",
       "      <td>60</td>\n",
       "      <td>1998-10-14</td>\n",
       "      <td>78</td>\n",
       "      <td>57.400000</td>\n",
       "    </tr>\n",
       "  </tbody>\n",
       "</table>\n",
       "</div>"
      ],
      "text/plain": [
       "   loan_id client_id status  duration       date  days_issued  months_left\n",
       "0     4959         2      A        24 1994-01-05         1821   -36.700000\n",
       "1     4959         3      A        24 1994-01-05         1821   -36.700000\n",
       "2     4961        25      B        12 1996-04-29          976   -20.533333\n",
       "3     4962        31      A        12 1997-12-08          388    -0.933333\n",
       "4     4967        45      D        60 1998-10-14           78    57.400000"
      ]
     },
     "execution_count": 38,
     "metadata": {},
     "output_type": "execute_result"
    }
   ],
   "source": [
    "loan_table['months_left'] = loan_table['duration'] - (loan_table['days_issued']/30)\n",
    "    \n",
    "loan_table.head()"
   ]
  },
  {
   "cell_type": "code",
   "execution_count": 39,
   "metadata": {},
   "outputs": [],
   "source": [
    "loan_table.loc[(loan_table.status == 'A'), ('months_left')] = 0"
   ]
  },
  {
   "cell_type": "code",
   "execution_count": 40,
   "metadata": {},
   "outputs": [
    {
     "data": {
      "text/html": [
       "<div>\n",
       "<style scoped>\n",
       "    .dataframe tbody tr th:only-of-type {\n",
       "        vertical-align: middle;\n",
       "    }\n",
       "\n",
       "    .dataframe tbody tr th {\n",
       "        vertical-align: top;\n",
       "    }\n",
       "\n",
       "    .dataframe thead th {\n",
       "        text-align: right;\n",
       "    }\n",
       "</style>\n",
       "<table border=\"1\" class=\"dataframe\">\n",
       "  <thead>\n",
       "    <tr style=\"text-align: right;\">\n",
       "      <th></th>\n",
       "      <th>loan_id</th>\n",
       "      <th>client_id</th>\n",
       "      <th>status</th>\n",
       "      <th>duration</th>\n",
       "      <th>date</th>\n",
       "      <th>days_issued</th>\n",
       "      <th>months_left</th>\n",
       "    </tr>\n",
       "  </thead>\n",
       "  <tbody>\n",
       "    <tr>\n",
       "      <th>0</th>\n",
       "      <td>4959</td>\n",
       "      <td>2</td>\n",
       "      <td>A</td>\n",
       "      <td>24</td>\n",
       "      <td>1994-01-05</td>\n",
       "      <td>1821</td>\n",
       "      <td>0.000000</td>\n",
       "    </tr>\n",
       "    <tr>\n",
       "      <th>1</th>\n",
       "      <td>4959</td>\n",
       "      <td>3</td>\n",
       "      <td>A</td>\n",
       "      <td>24</td>\n",
       "      <td>1994-01-05</td>\n",
       "      <td>1821</td>\n",
       "      <td>0.000000</td>\n",
       "    </tr>\n",
       "    <tr>\n",
       "      <th>2</th>\n",
       "      <td>4961</td>\n",
       "      <td>25</td>\n",
       "      <td>B</td>\n",
       "      <td>12</td>\n",
       "      <td>1996-04-29</td>\n",
       "      <td>976</td>\n",
       "      <td>-20.533333</td>\n",
       "    </tr>\n",
       "    <tr>\n",
       "      <th>3</th>\n",
       "      <td>4962</td>\n",
       "      <td>31</td>\n",
       "      <td>A</td>\n",
       "      <td>12</td>\n",
       "      <td>1997-12-08</td>\n",
       "      <td>388</td>\n",
       "      <td>0.000000</td>\n",
       "    </tr>\n",
       "    <tr>\n",
       "      <th>4</th>\n",
       "      <td>4967</td>\n",
       "      <td>45</td>\n",
       "      <td>D</td>\n",
       "      <td>60</td>\n",
       "      <td>1998-10-14</td>\n",
       "      <td>78</td>\n",
       "      <td>57.400000</td>\n",
       "    </tr>\n",
       "  </tbody>\n",
       "</table>\n",
       "</div>"
      ],
      "text/plain": [
       "   loan_id client_id status  duration       date  days_issued  months_left\n",
       "0     4959         2      A        24 1994-01-05         1821     0.000000\n",
       "1     4959         3      A        24 1994-01-05         1821     0.000000\n",
       "2     4961        25      B        12 1996-04-29          976   -20.533333\n",
       "3     4962        31      A        12 1997-12-08          388     0.000000\n",
       "4     4967        45      D        60 1998-10-14           78    57.400000"
      ]
     },
     "execution_count": 40,
     "metadata": {},
     "output_type": "execute_result"
    }
   ],
   "source": [
    "loan_table.head()"
   ]
  },
  {
   "cell_type": "markdown",
   "metadata": {},
   "source": [
    "### Order"
   ]
  },
  {
   "cell_type": "code",
   "execution_count": 41,
   "metadata": {},
   "outputs": [],
   "source": [
    "# pull order data from SQL (Berka Database)\n",
    "\n",
    "pythonSQLobject=pd.read_sql_query(\"\"\"\n",
    "select c.client_id, o.order_id, o.amount,\n",
    "CASE \n",
    "\tWHEN o.k_symbol = 'POJISTNE' THEN 'insurance payment'\n",
    "\tWHEN o.k_symbol = 'SIPO' THEN 'household payment'\n",
    "\tWHEN o.k_symbol = 'LEASING' THEN 'leasing'\n",
    "\tWHEN o.k_symbol = 'UVER' THEN 'loan payment'\n",
    "END AS type\n",
    "from [dbo].[order] as o\n",
    "left join [dbo].[account] as a\n",
    "on o.account_id = a.account_id\n",
    "left join [dbo].[disp] as d\n",
    "on d.account_id = a.account_id\n",
    "left join [dbo].[client] as c\n",
    "on c.client_id = d.client_id\n",
    "\"\"\", conn)"
   ]
  },
  {
   "cell_type": "code",
   "execution_count": 42,
   "metadata": {},
   "outputs": [],
   "source": [
    "order_table= pythonSQLobject # assign read object to variable"
   ]
  },
  {
   "cell_type": "code",
   "execution_count": 43,
   "metadata": {},
   "outputs": [
    {
     "data": {
      "text/html": [
       "<div>\n",
       "<style scoped>\n",
       "    .dataframe tbody tr th:only-of-type {\n",
       "        vertical-align: middle;\n",
       "    }\n",
       "\n",
       "    .dataframe tbody tr th {\n",
       "        vertical-align: top;\n",
       "    }\n",
       "\n",
       "    .dataframe thead th {\n",
       "        text-align: right;\n",
       "    }\n",
       "</style>\n",
       "<table border=\"1\" class=\"dataframe\">\n",
       "  <thead>\n",
       "    <tr style=\"text-align: right;\">\n",
       "      <th></th>\n",
       "      <th>client_id</th>\n",
       "      <th>order_id</th>\n",
       "      <th>amount</th>\n",
       "      <th>type</th>\n",
       "    </tr>\n",
       "  </thead>\n",
       "  <tbody>\n",
       "    <tr>\n",
       "      <th>0</th>\n",
       "      <td>1</td>\n",
       "      <td>29401</td>\n",
       "      <td>2452.0</td>\n",
       "      <td>household payment</td>\n",
       "    </tr>\n",
       "    <tr>\n",
       "      <th>1</th>\n",
       "      <td>10</td>\n",
       "      <td>29412</td>\n",
       "      <td>2612.0</td>\n",
       "      <td>household payment</td>\n",
       "    </tr>\n",
       "    <tr>\n",
       "      <th>2</th>\n",
       "      <td>10</td>\n",
       "      <td>29413</td>\n",
       "      <td>6712.0</td>\n",
       "      <td>None</td>\n",
       "    </tr>\n",
       "    <tr>\n",
       "      <th>3</th>\n",
       "      <td>100</td>\n",
       "      <td>29533</td>\n",
       "      <td>1709.0</td>\n",
       "      <td>leasing</td>\n",
       "    </tr>\n",
       "    <tr>\n",
       "      <th>4</th>\n",
       "      <td>100</td>\n",
       "      <td>29534</td>\n",
       "      <td>12452.0</td>\n",
       "      <td>household payment</td>\n",
       "    </tr>\n",
       "  </tbody>\n",
       "</table>\n",
       "</div>"
      ],
      "text/plain": [
       "  client_id  order_id   amount               type\n",
       "0         1     29401   2452.0  household payment\n",
       "1        10     29412   2612.0  household payment\n",
       "2        10     29413   6712.0               None\n",
       "3       100     29533   1709.0            leasing\n",
       "4       100     29534  12452.0  household payment"
      ]
     },
     "execution_count": 43,
     "metadata": {},
     "output_type": "execute_result"
    }
   ],
   "source": [
    "order_table.head()"
   ]
  },
  {
   "cell_type": "code",
   "execution_count": 44,
   "metadata": {},
   "outputs": [
    {
     "data": {
      "text/plain": [
       "client_id       0\n",
       "order_id        0\n",
       "amount          0\n",
       "type         1670\n",
       "dtype: int64"
      ]
     },
     "execution_count": 44,
     "metadata": {},
     "output_type": "execute_result"
    }
   ],
   "source": [
    "# check for missing values\n",
    "\n",
    "order_table.isna().sum()"
   ]
  },
  {
   "cell_type": "code",
   "execution_count": 45,
   "metadata": {},
   "outputs": [
    {
     "data": {
      "text/plain": [
       "False"
      ]
     },
     "execution_count": 45,
     "metadata": {},
     "output_type": "execute_result"
    }
   ],
   "source": [
    "# check for duplicates\n",
    "\n",
    "boolean = order_table.duplicated().any()\n",
    "boolean"
   ]
  },
  {
   "cell_type": "markdown",
   "metadata": {},
   "source": [
    "No duplicates nor missing values found in order table"
   ]
  },
  {
   "cell_type": "markdown",
   "metadata": {},
   "source": [
    "### Card"
   ]
  },
  {
   "cell_type": "code",
   "execution_count": 46,
   "metadata": {},
   "outputs": [],
   "source": [
    "pythonSQLobject=pd.read_sql_query(\"\"\"\n",
    "select cr.card_id, c.client_id, cr.type, cr.issued\n",
    "from [dbo].[card] as cr\n",
    "left join [dbo].[disp] as d\n",
    "on cr.disp_id = d.disp_id\n",
    "left join [dbo].[client] as c\n",
    "on c.client_id = d.client_id\n",
    "\"\"\", conn)"
   ]
  },
  {
   "cell_type": "code",
   "execution_count": 47,
   "metadata": {},
   "outputs": [],
   "source": [
    "card_table= pythonSQLobject # assign read object to variable"
   ]
  },
  {
   "cell_type": "code",
   "execution_count": 48,
   "metadata": {},
   "outputs": [
    {
     "data": {
      "text/html": [
       "<div>\n",
       "<style scoped>\n",
       "    .dataframe tbody tr th:only-of-type {\n",
       "        vertical-align: middle;\n",
       "    }\n",
       "\n",
       "    .dataframe tbody tr th {\n",
       "        vertical-align: top;\n",
       "    }\n",
       "\n",
       "    .dataframe thead th {\n",
       "        text-align: right;\n",
       "    }\n",
       "</style>\n",
       "<table border=\"1\" class=\"dataframe\">\n",
       "  <thead>\n",
       "    <tr style=\"text-align: right;\">\n",
       "      <th></th>\n",
       "      <th>card_id</th>\n",
       "      <th>client_id</th>\n",
       "      <th>type</th>\n",
       "      <th>issued</th>\n",
       "    </tr>\n",
       "  </thead>\n",
       "  <tbody>\n",
       "    <tr>\n",
       "      <th>0</th>\n",
       "      <td>1</td>\n",
       "      <td>9</td>\n",
       "      <td>gold</td>\n",
       "      <td>981016 00:00:00</td>\n",
       "    </tr>\n",
       "    <tr>\n",
       "      <th>1</th>\n",
       "      <td>2</td>\n",
       "      <td>19</td>\n",
       "      <td>classic</td>\n",
       "      <td>980313 00:00:00</td>\n",
       "    </tr>\n",
       "    <tr>\n",
       "      <th>2</th>\n",
       "      <td>3</td>\n",
       "      <td>41</td>\n",
       "      <td>gold</td>\n",
       "      <td>950903 00:00:00</td>\n",
       "    </tr>\n",
       "    <tr>\n",
       "      <th>3</th>\n",
       "      <td>4</td>\n",
       "      <td>42</td>\n",
       "      <td>classic</td>\n",
       "      <td>981126 00:00:00</td>\n",
       "    </tr>\n",
       "    <tr>\n",
       "      <th>4</th>\n",
       "      <td>5</td>\n",
       "      <td>51</td>\n",
       "      <td>junior</td>\n",
       "      <td>950424 00:00:00</td>\n",
       "    </tr>\n",
       "  </tbody>\n",
       "</table>\n",
       "</div>"
      ],
      "text/plain": [
       "   card_id client_id     type           issued\n",
       "0        1         9     gold  981016 00:00:00\n",
       "1        2        19  classic  980313 00:00:00\n",
       "2        3        41     gold  950903 00:00:00\n",
       "3        4        42  classic  981126 00:00:00\n",
       "4        5        51   junior  950424 00:00:00"
      ]
     },
     "execution_count": 48,
     "metadata": {},
     "output_type": "execute_result"
    }
   ],
   "source": [
    "card_table.head()"
   ]
  },
  {
   "cell_type": "code",
   "execution_count": 49,
   "metadata": {},
   "outputs": [
    {
     "data": {
      "text/plain": [
       "'981229 00:00:00'"
      ]
     },
     "execution_count": 49,
     "metadata": {},
     "output_type": "execute_result"
    }
   ],
   "source": [
    "card_table['issued'].max()"
   ]
  },
  {
   "cell_type": "code",
   "execution_count": 50,
   "metadata": {},
   "outputs": [],
   "source": [
    "card_table.issued = pd.to_datetime(card_table.issued)"
   ]
  },
  {
   "cell_type": "code",
   "execution_count": 51,
   "metadata": {},
   "outputs": [
    {
     "data": {
      "text/html": [
       "<div>\n",
       "<style scoped>\n",
       "    .dataframe tbody tr th:only-of-type {\n",
       "        vertical-align: middle;\n",
       "    }\n",
       "\n",
       "    .dataframe tbody tr th {\n",
       "        vertical-align: top;\n",
       "    }\n",
       "\n",
       "    .dataframe thead th {\n",
       "        text-align: right;\n",
       "    }\n",
       "</style>\n",
       "<table border=\"1\" class=\"dataframe\">\n",
       "  <thead>\n",
       "    <tr style=\"text-align: right;\">\n",
       "      <th></th>\n",
       "      <th>card_id</th>\n",
       "      <th>client_id</th>\n",
       "      <th>type</th>\n",
       "      <th>issued</th>\n",
       "    </tr>\n",
       "  </thead>\n",
       "  <tbody>\n",
       "    <tr>\n",
       "      <th>0</th>\n",
       "      <td>1</td>\n",
       "      <td>9</td>\n",
       "      <td>gold</td>\n",
       "      <td>1998-10-16</td>\n",
       "    </tr>\n",
       "    <tr>\n",
       "      <th>1</th>\n",
       "      <td>2</td>\n",
       "      <td>19</td>\n",
       "      <td>classic</td>\n",
       "      <td>1998-03-13</td>\n",
       "    </tr>\n",
       "    <tr>\n",
       "      <th>2</th>\n",
       "      <td>3</td>\n",
       "      <td>41</td>\n",
       "      <td>gold</td>\n",
       "      <td>1995-09-03</td>\n",
       "    </tr>\n",
       "    <tr>\n",
       "      <th>3</th>\n",
       "      <td>4</td>\n",
       "      <td>42</td>\n",
       "      <td>classic</td>\n",
       "      <td>1998-11-26</td>\n",
       "    </tr>\n",
       "    <tr>\n",
       "      <th>4</th>\n",
       "      <td>5</td>\n",
       "      <td>51</td>\n",
       "      <td>junior</td>\n",
       "      <td>1995-04-24</td>\n",
       "    </tr>\n",
       "  </tbody>\n",
       "</table>\n",
       "</div>"
      ],
      "text/plain": [
       "   card_id client_id     type     issued\n",
       "0        1         9     gold 1998-10-16\n",
       "1        2        19  classic 1998-03-13\n",
       "2        3        41     gold 1995-09-03\n",
       "3        4        42  classic 1998-11-26\n",
       "4        5        51   junior 1995-04-24"
      ]
     },
     "execution_count": 51,
     "metadata": {},
     "output_type": "execute_result"
    }
   ],
   "source": [
    "card_table.head()"
   ]
  },
  {
   "cell_type": "code",
   "execution_count": 52,
   "metadata": {},
   "outputs": [
    {
     "data": {
      "text/html": [
       "<div>\n",
       "<style scoped>\n",
       "    .dataframe tbody tr th:only-of-type {\n",
       "        vertical-align: middle;\n",
       "    }\n",
       "\n",
       "    .dataframe tbody tr th {\n",
       "        vertical-align: top;\n",
       "    }\n",
       "\n",
       "    .dataframe thead th {\n",
       "        text-align: right;\n",
       "    }\n",
       "</style>\n",
       "<table border=\"1\" class=\"dataframe\">\n",
       "  <thead>\n",
       "    <tr style=\"text-align: right;\">\n",
       "      <th></th>\n",
       "      <th>card_id</th>\n",
       "      <th>client_id</th>\n",
       "      <th>type</th>\n",
       "      <th>issued</th>\n",
       "      <th>days_ccard_issued</th>\n",
       "    </tr>\n",
       "  </thead>\n",
       "  <tbody>\n",
       "    <tr>\n",
       "      <th>0</th>\n",
       "      <td>1</td>\n",
       "      <td>9</td>\n",
       "      <td>gold</td>\n",
       "      <td>1998-10-16</td>\n",
       "      <td>76</td>\n",
       "    </tr>\n",
       "    <tr>\n",
       "      <th>1</th>\n",
       "      <td>2</td>\n",
       "      <td>19</td>\n",
       "      <td>classic</td>\n",
       "      <td>1998-03-13</td>\n",
       "      <td>293</td>\n",
       "    </tr>\n",
       "    <tr>\n",
       "      <th>2</th>\n",
       "      <td>3</td>\n",
       "      <td>41</td>\n",
       "      <td>gold</td>\n",
       "      <td>1995-09-03</td>\n",
       "      <td>1215</td>\n",
       "    </tr>\n",
       "    <tr>\n",
       "      <th>3</th>\n",
       "      <td>4</td>\n",
       "      <td>42</td>\n",
       "      <td>classic</td>\n",
       "      <td>1998-11-26</td>\n",
       "      <td>35</td>\n",
       "    </tr>\n",
       "    <tr>\n",
       "      <th>4</th>\n",
       "      <td>5</td>\n",
       "      <td>51</td>\n",
       "      <td>junior</td>\n",
       "      <td>1995-04-24</td>\n",
       "      <td>1347</td>\n",
       "    </tr>\n",
       "  </tbody>\n",
       "</table>\n",
       "</div>"
      ],
      "text/plain": [
       "   card_id client_id     type     issued  days_ccard_issued\n",
       "0        1         9     gold 1998-10-16                 76\n",
       "1        2        19  classic 1998-03-13                293\n",
       "2        3        41     gold 1995-09-03               1215\n",
       "3        4        42  classic 1998-11-26                 35\n",
       "4        5        51   junior 1995-04-24               1347"
      ]
     },
     "execution_count": 52,
     "metadata": {},
     "output_type": "execute_result"
    }
   ],
   "source": [
    "card_table['days_ccard_issued'] = today_date  - card_table['issued']\n",
    "card_table['days_ccard_issued'] = (card_table['days_ccard_issued']/ np.timedelta64(1, 'D')).astype(int) # converts timedelta to int\n",
    "card_table.head()"
   ]
  },
  {
   "cell_type": "code",
   "execution_count": 53,
   "metadata": {},
   "outputs": [
    {
     "data": {
      "text/plain": [
       "card_id              0\n",
       "client_id            0\n",
       "type                 0\n",
       "issued               0\n",
       "days_ccard_issued    0\n",
       "dtype: int64"
      ]
     },
     "execution_count": 53,
     "metadata": {},
     "output_type": "execute_result"
    }
   ],
   "source": [
    "# check for missing data\n",
    "\n",
    "card_table.isna().sum()"
   ]
  },
  {
   "cell_type": "code",
   "execution_count": 54,
   "metadata": {},
   "outputs": [
    {
     "data": {
      "text/plain": [
       "False"
      ]
     },
     "execution_count": 54,
     "metadata": {},
     "output_type": "execute_result"
    }
   ],
   "source": [
    "# check for duplicates\n",
    "\n",
    "boolean = card_table.duplicated().any()\n",
    "boolean"
   ]
  },
  {
   "cell_type": "markdown",
   "metadata": {},
   "source": [
    "No duplicate nor missing data in card table"
   ]
  },
  {
   "cell_type": "markdown",
   "metadata": {},
   "source": [
    "### Demography - district"
   ]
  },
  {
   "cell_type": "code",
   "execution_count": 55,
   "metadata": {},
   "outputs": [],
   "source": [
    "pythonSQLobject=pd.read_sql_query(\"\"\"\n",
    "select c.client_id, distr.A2 as district, distr.A3 as region, distr.A4 as population, distr.A9 as no_cities, distr.A10 as ratio_urban, \n",
    "distr.A11 as avg_sal, distr.A12 as unemp_95, distr.A13 as unemp_96, distr.A14 as no_enterp, \n",
    "distr.A15 as no_crimes95, distr.A16 as no_crimes96\n",
    "from [dbo].[district] as distr\n",
    "left join [dbo].[client] as c\n",
    "on c.district_id = distr.A1\n",
    "\"\"\", conn)"
   ]
  },
  {
   "cell_type": "code",
   "execution_count": 56,
   "metadata": {},
   "outputs": [],
   "source": [
    "demography_table= pythonSQLobject # assign read object to variable"
   ]
  },
  {
   "cell_type": "code",
   "execution_count": 57,
   "metadata": {},
   "outputs": [
    {
     "data": {
      "text/html": [
       "<div>\n",
       "<style scoped>\n",
       "    .dataframe tbody tr th:only-of-type {\n",
       "        vertical-align: middle;\n",
       "    }\n",
       "\n",
       "    .dataframe tbody tr th {\n",
       "        vertical-align: top;\n",
       "    }\n",
       "\n",
       "    .dataframe thead th {\n",
       "        text-align: right;\n",
       "    }\n",
       "</style>\n",
       "<table border=\"1\" class=\"dataframe\">\n",
       "  <thead>\n",
       "    <tr style=\"text-align: right;\">\n",
       "      <th></th>\n",
       "      <th>client_id</th>\n",
       "      <th>district</th>\n",
       "      <th>region</th>\n",
       "      <th>population</th>\n",
       "      <th>no_cities</th>\n",
       "      <th>ratio_urban</th>\n",
       "      <th>avg_sal</th>\n",
       "      <th>unemp_95</th>\n",
       "      <th>unemp_96</th>\n",
       "      <th>no_enterp</th>\n",
       "      <th>no_crimes95</th>\n",
       "      <th>no_crimes96</th>\n",
       "    </tr>\n",
       "  </thead>\n",
       "  <tbody>\n",
       "    <tr>\n",
       "      <th>0</th>\n",
       "      <td>1</td>\n",
       "      <td>Pisek</td>\n",
       "      <td>south Bohemia</td>\n",
       "      <td>70699</td>\n",
       "      <td>4</td>\n",
       "      <td>65.3</td>\n",
       "      <td>8968</td>\n",
       "      <td>2.83</td>\n",
       "      <td>3.35</td>\n",
       "      <td>131</td>\n",
       "      <td>1740</td>\n",
       "      <td>1910</td>\n",
       "    </tr>\n",
       "    <tr>\n",
       "      <th>1</th>\n",
       "      <td>2</td>\n",
       "      <td>Hl.m. Praha</td>\n",
       "      <td>Prague</td>\n",
       "      <td>1204953</td>\n",
       "      <td>1</td>\n",
       "      <td>100.0</td>\n",
       "      <td>12541</td>\n",
       "      <td>0.29</td>\n",
       "      <td>0.43</td>\n",
       "      <td>167</td>\n",
       "      <td>85677</td>\n",
       "      <td>99107</td>\n",
       "    </tr>\n",
       "    <tr>\n",
       "      <th>2</th>\n",
       "      <td>3</td>\n",
       "      <td>Hl.m. Praha</td>\n",
       "      <td>Prague</td>\n",
       "      <td>1204953</td>\n",
       "      <td>1</td>\n",
       "      <td>100.0</td>\n",
       "      <td>12541</td>\n",
       "      <td>0.29</td>\n",
       "      <td>0.43</td>\n",
       "      <td>167</td>\n",
       "      <td>85677</td>\n",
       "      <td>99107</td>\n",
       "    </tr>\n",
       "    <tr>\n",
       "      <th>3</th>\n",
       "      <td>4</td>\n",
       "      <td>Kolin</td>\n",
       "      <td>central Bohemia</td>\n",
       "      <td>95616</td>\n",
       "      <td>6</td>\n",
       "      <td>51.4</td>\n",
       "      <td>9307</td>\n",
       "      <td>3.85</td>\n",
       "      <td>4.43</td>\n",
       "      <td>118</td>\n",
       "      <td>2616</td>\n",
       "      <td>3040</td>\n",
       "    </tr>\n",
       "    <tr>\n",
       "      <th>4</th>\n",
       "      <td>5</td>\n",
       "      <td>Kolin</td>\n",
       "      <td>central Bohemia</td>\n",
       "      <td>95616</td>\n",
       "      <td>6</td>\n",
       "      <td>51.4</td>\n",
       "      <td>9307</td>\n",
       "      <td>3.85</td>\n",
       "      <td>4.43</td>\n",
       "      <td>118</td>\n",
       "      <td>2616</td>\n",
       "      <td>3040</td>\n",
       "    </tr>\n",
       "  </tbody>\n",
       "</table>\n",
       "</div>"
      ],
      "text/plain": [
       "  client_id     district           region  population no_cities  ratio_urban  \\\n",
       "0         1        Pisek    south Bohemia       70699         4         65.3   \n",
       "1         2  Hl.m. Praha           Prague     1204953         1        100.0   \n",
       "2         3  Hl.m. Praha           Prague     1204953         1        100.0   \n",
       "3         4        Kolin  central Bohemia       95616         6         51.4   \n",
       "4         5        Kolin  central Bohemia       95616         6         51.4   \n",
       "\n",
       "   avg_sal unemp_95  unemp_96  no_enterp no_crimes95  no_crimes96  \n",
       "0     8968     2.83      3.35        131        1740         1910  \n",
       "1    12541     0.29      0.43        167       85677        99107  \n",
       "2    12541     0.29      0.43        167       85677        99107  \n",
       "3     9307     3.85      4.43        118        2616         3040  \n",
       "4     9307     3.85      4.43        118        2616         3040  "
      ]
     },
     "execution_count": 57,
     "metadata": {},
     "output_type": "execute_result"
    }
   ],
   "source": [
    "demography_table.head()"
   ]
  },
  {
   "cell_type": "code",
   "execution_count": 58,
   "metadata": {},
   "outputs": [
    {
     "data": {
      "text/plain": [
       "client_id      0\n",
       "district       0\n",
       "region         0\n",
       "population     0\n",
       "no_cities      0\n",
       "ratio_urban    0\n",
       "avg_sal        0\n",
       "unemp_95       0\n",
       "unemp_96       0\n",
       "no_enterp      0\n",
       "no_crimes95    0\n",
       "no_crimes96    0\n",
       "dtype: int64"
      ]
     },
     "execution_count": 58,
     "metadata": {},
     "output_type": "execute_result"
    }
   ],
   "source": [
    "# check for missing values\n",
    "\n",
    "demography_table.isna().sum()"
   ]
  },
  {
   "cell_type": "code",
   "execution_count": 59,
   "metadata": {},
   "outputs": [
    {
     "data": {
      "text/plain": [
       "False"
      ]
     },
     "execution_count": 59,
     "metadata": {},
     "output_type": "execute_result"
    }
   ],
   "source": [
    "# check for duplicates\n",
    "\n",
    "boolean = demography_table.duplicated().any()\n",
    "boolean"
   ]
  },
  {
   "cell_type": "markdown",
   "metadata": {},
   "source": [
    "No duplicate nor missing data in demography table"
   ]
  },
  {
   "cell_type": "markdown",
   "metadata": {},
   "source": [
    "### Client"
   ]
  },
  {
   "cell_type": "code",
   "execution_count": 60,
   "metadata": {},
   "outputs": [],
   "source": [
    "pythonSQLobject=pd.read_sql_query(\"\"\"\n",
    "select client_id, 99 - LEFT([birth_number], 2) as age, /* based on date of last transaction 1998-12-31 */\n",
    "CASE\n",
    "\tWHEN RIGHT([birth_number], 4) >= 1300 THEN 'F'\n",
    "\tWHEN RIGHT([birth_number], 4) < 1300 THEN 'M'\n",
    "END AS gender\n",
    "from [dbo].[client]\n",
    "\"\"\", conn)"
   ]
  },
  {
   "cell_type": "code",
   "execution_count": 61,
   "metadata": {},
   "outputs": [],
   "source": [
    "client_table= pythonSQLobject # assign read object to variable"
   ]
  },
  {
   "cell_type": "code",
   "execution_count": 62,
   "metadata": {},
   "outputs": [
    {
     "data": {
      "text/plain": [
       "(5369, 3)"
      ]
     },
     "execution_count": 62,
     "metadata": {},
     "output_type": "execute_result"
    }
   ],
   "source": [
    "client_table.shape"
   ]
  },
  {
   "cell_type": "markdown",
   "metadata": {},
   "source": [
    "The above shows the bank has 5,369 clients"
   ]
  },
  {
   "cell_type": "code",
   "execution_count": 63,
   "metadata": {},
   "outputs": [
    {
     "data": {
      "text/html": [
       "<div>\n",
       "<style scoped>\n",
       "    .dataframe tbody tr th:only-of-type {\n",
       "        vertical-align: middle;\n",
       "    }\n",
       "\n",
       "    .dataframe tbody tr th {\n",
       "        vertical-align: top;\n",
       "    }\n",
       "\n",
       "    .dataframe thead th {\n",
       "        text-align: right;\n",
       "    }\n",
       "</style>\n",
       "<table border=\"1\" class=\"dataframe\">\n",
       "  <thead>\n",
       "    <tr style=\"text-align: right;\">\n",
       "      <th></th>\n",
       "      <th>client_id</th>\n",
       "      <th>age</th>\n",
       "      <th>gender</th>\n",
       "    </tr>\n",
       "  </thead>\n",
       "  <tbody>\n",
       "    <tr>\n",
       "      <th>0</th>\n",
       "      <td>1</td>\n",
       "      <td>29</td>\n",
       "      <td>F</td>\n",
       "    </tr>\n",
       "    <tr>\n",
       "      <th>1</th>\n",
       "      <td>2</td>\n",
       "      <td>54</td>\n",
       "      <td>M</td>\n",
       "    </tr>\n",
       "    <tr>\n",
       "      <th>2</th>\n",
       "      <td>3</td>\n",
       "      <td>59</td>\n",
       "      <td>F</td>\n",
       "    </tr>\n",
       "    <tr>\n",
       "      <th>3</th>\n",
       "      <td>4</td>\n",
       "      <td>43</td>\n",
       "      <td>M</td>\n",
       "    </tr>\n",
       "    <tr>\n",
       "      <th>4</th>\n",
       "      <td>5</td>\n",
       "      <td>39</td>\n",
       "      <td>F</td>\n",
       "    </tr>\n",
       "  </tbody>\n",
       "</table>\n",
       "</div>"
      ],
      "text/plain": [
       "  client_id  age gender\n",
       "0         1   29      F\n",
       "1         2   54      M\n",
       "2         3   59      F\n",
       "3         4   43      M\n",
       "4         5   39      F"
      ]
     },
     "execution_count": 63,
     "metadata": {},
     "output_type": "execute_result"
    }
   ],
   "source": [
    "client_table.head()"
   ]
  },
  {
   "cell_type": "code",
   "execution_count": 64,
   "metadata": {},
   "outputs": [
    {
     "data": {
      "text/plain": [
       "client_id    0\n",
       "age          0\n",
       "gender       0\n",
       "dtype: int64"
      ]
     },
     "execution_count": 64,
     "metadata": {},
     "output_type": "execute_result"
    }
   ],
   "source": [
    "# check for missing values\n",
    "\n",
    "client_table.isna().sum()"
   ]
  },
  {
   "cell_type": "code",
   "execution_count": 65,
   "metadata": {},
   "outputs": [
    {
     "data": {
      "text/plain": [
       "False"
      ]
     },
     "execution_count": 65,
     "metadata": {},
     "output_type": "execute_result"
    }
   ],
   "source": [
    "# check for duplicates\n",
    "\n",
    "boolean = client_table.duplicated().any()\n",
    "boolean"
   ]
  },
  {
   "cell_type": "markdown",
   "metadata": {},
   "source": [
    "No duplicate nor missing data in demography table"
   ]
  },
  {
   "cell_type": "code",
   "execution_count": 66,
   "metadata": {},
   "outputs": [],
   "source": [
    "conn.close() # close connection"
   ]
  },
  {
   "cell_type": "markdown",
   "metadata": {},
   "source": [
    "## Data Wrangling"
   ]
  },
  {
   "cell_type": "code",
   "execution_count": 67,
   "metadata": {},
   "outputs": [],
   "source": [
    "# join client table with demography table & name the dataframe 'credit'\n",
    "\n",
    "credit = pd.merge(client_table, demography_table, on='client_id', how='left')"
   ]
  },
  {
   "cell_type": "code",
   "execution_count": 68,
   "metadata": {},
   "outputs": [
    {
     "data": {
      "text/plain": [
       "(5369, 14)"
      ]
     },
     "execution_count": 68,
     "metadata": {},
     "output_type": "execute_result"
    }
   ],
   "source": [
    "credit.shape"
   ]
  },
  {
   "cell_type": "code",
   "execution_count": 69,
   "metadata": {},
   "outputs": [
    {
     "data": {
      "text/plain": [
       "(5369, 17)"
      ]
     },
     "execution_count": 69,
     "metadata": {},
     "output_type": "execute_result"
    }
   ],
   "source": [
    "# merge trans_table with the dataframe\n",
    "\n",
    "credit = credit.merge(trans_table)\n",
    "\n",
    "credit.shape"
   ]
  },
  {
   "cell_type": "code",
   "execution_count": 70,
   "metadata": {},
   "outputs": [
    {
     "data": {
      "text/html": [
       "<div>\n",
       "<style scoped>\n",
       "    .dataframe tbody tr th:only-of-type {\n",
       "        vertical-align: middle;\n",
       "    }\n",
       "\n",
       "    .dataframe tbody tr th {\n",
       "        vertical-align: top;\n",
       "    }\n",
       "\n",
       "    .dataframe thead th {\n",
       "        text-align: right;\n",
       "    }\n",
       "</style>\n",
       "<table border=\"1\" class=\"dataframe\">\n",
       "  <thead>\n",
       "    <tr style=\"text-align: right;\">\n",
       "      <th></th>\n",
       "      <th>client_id</th>\n",
       "      <th>age</th>\n",
       "      <th>gender</th>\n",
       "      <th>district</th>\n",
       "      <th>region</th>\n",
       "      <th>population</th>\n",
       "      <th>no_cities</th>\n",
       "      <th>ratio_urban</th>\n",
       "      <th>avg_sal</th>\n",
       "      <th>unemp_95</th>\n",
       "      <th>unemp_96</th>\n",
       "      <th>no_enterp</th>\n",
       "      <th>no_crimes95</th>\n",
       "      <th>no_crimes96</th>\n",
       "      <th>monthly_income</th>\n",
       "      <th>monthly_spending</th>\n",
       "      <th>daily_balance</th>\n",
       "    </tr>\n",
       "  </thead>\n",
       "  <tbody>\n",
       "    <tr>\n",
       "      <th>0</th>\n",
       "      <td>1</td>\n",
       "      <td>29</td>\n",
       "      <td>F</td>\n",
       "      <td>Pisek</td>\n",
       "      <td>south Bohemia</td>\n",
       "      <td>70699</td>\n",
       "      <td>4</td>\n",
       "      <td>65.3</td>\n",
       "      <td>8968</td>\n",
       "      <td>2.83</td>\n",
       "      <td>3.35</td>\n",
       "      <td>131</td>\n",
       "      <td>1740</td>\n",
       "      <td>1910</td>\n",
       "      <td>4230.489840</td>\n",
       "      <td>28.739525</td>\n",
       "      <td>2773.997097</td>\n",
       "    </tr>\n",
       "    <tr>\n",
       "      <th>1</th>\n",
       "      <td>2</td>\n",
       "      <td>54</td>\n",
       "      <td>M</td>\n",
       "      <td>Hl.m. Praha</td>\n",
       "      <td>Prague</td>\n",
       "      <td>1204953</td>\n",
       "      <td>1</td>\n",
       "      <td>100.0</td>\n",
       "      <td>12541</td>\n",
       "      <td>0.29</td>\n",
       "      <td>0.43</td>\n",
       "      <td>167</td>\n",
       "      <td>85677</td>\n",
       "      <td>99107</td>\n",
       "      <td>22451.548735</td>\n",
       "      <td>61.624463</td>\n",
       "      <td>8184.843814</td>\n",
       "    </tr>\n",
       "    <tr>\n",
       "      <th>2</th>\n",
       "      <td>3</td>\n",
       "      <td>59</td>\n",
       "      <td>F</td>\n",
       "      <td>Hl.m. Praha</td>\n",
       "      <td>Prague</td>\n",
       "      <td>1204953</td>\n",
       "      <td>1</td>\n",
       "      <td>100.0</td>\n",
       "      <td>12541</td>\n",
       "      <td>0.29</td>\n",
       "      <td>0.43</td>\n",
       "      <td>167</td>\n",
       "      <td>85677</td>\n",
       "      <td>99107</td>\n",
       "      <td>22451.548735</td>\n",
       "      <td>61.624463</td>\n",
       "      <td>8184.843814</td>\n",
       "    </tr>\n",
       "    <tr>\n",
       "      <th>3</th>\n",
       "      <td>4</td>\n",
       "      <td>43</td>\n",
       "      <td>M</td>\n",
       "      <td>Kolin</td>\n",
       "      <td>central Bohemia</td>\n",
       "      <td>95616</td>\n",
       "      <td>6</td>\n",
       "      <td>51.4</td>\n",
       "      <td>9307</td>\n",
       "      <td>3.85</td>\n",
       "      <td>4.43</td>\n",
       "      <td>118</td>\n",
       "      <td>2616</td>\n",
       "      <td>3040</td>\n",
       "      <td>9578.911439</td>\n",
       "      <td>95.080401</td>\n",
       "      <td>5822.694280</td>\n",
       "    </tr>\n",
       "    <tr>\n",
       "      <th>4</th>\n",
       "      <td>5</td>\n",
       "      <td>39</td>\n",
       "      <td>F</td>\n",
       "      <td>Kolin</td>\n",
       "      <td>central Bohemia</td>\n",
       "      <td>95616</td>\n",
       "      <td>6</td>\n",
       "      <td>51.4</td>\n",
       "      <td>9307</td>\n",
       "      <td>3.85</td>\n",
       "      <td>4.43</td>\n",
       "      <td>118</td>\n",
       "      <td>2616</td>\n",
       "      <td>3040</td>\n",
       "      <td>9578.911439</td>\n",
       "      <td>95.080401</td>\n",
       "      <td>5822.694280</td>\n",
       "    </tr>\n",
       "  </tbody>\n",
       "</table>\n",
       "</div>"
      ],
      "text/plain": [
       "  client_id  age gender     district           region  population no_cities  \\\n",
       "0         1   29      F        Pisek    south Bohemia       70699         4   \n",
       "1         2   54      M  Hl.m. Praha           Prague     1204953         1   \n",
       "2         3   59      F  Hl.m. Praha           Prague     1204953         1   \n",
       "3         4   43      M        Kolin  central Bohemia       95616         6   \n",
       "4         5   39      F        Kolin  central Bohemia       95616         6   \n",
       "\n",
       "   ratio_urban  avg_sal unemp_95  unemp_96  no_enterp no_crimes95  \\\n",
       "0         65.3     8968     2.83      3.35        131        1740   \n",
       "1        100.0    12541     0.29      0.43        167       85677   \n",
       "2        100.0    12541     0.29      0.43        167       85677   \n",
       "3         51.4     9307     3.85      4.43        118        2616   \n",
       "4         51.4     9307     3.85      4.43        118        2616   \n",
       "\n",
       "   no_crimes96  monthly_income  monthly_spending  daily_balance  \n",
       "0         1910     4230.489840         28.739525    2773.997097  \n",
       "1        99107    22451.548735         61.624463    8184.843814  \n",
       "2        99107    22451.548735         61.624463    8184.843814  \n",
       "3         3040     9578.911439         95.080401    5822.694280  \n",
       "4         3040     9578.911439         95.080401    5822.694280  "
      ]
     },
     "execution_count": 70,
     "metadata": {},
     "output_type": "execute_result"
    }
   ],
   "source": [
    "credit.head()"
   ]
  },
  {
   "cell_type": "code",
   "execution_count": 71,
   "metadata": {},
   "outputs": [
    {
     "data": {
      "text/plain": [
       "(5369, 21)"
      ]
     },
     "execution_count": 71,
     "metadata": {},
     "output_type": "execute_result"
    }
   ],
   "source": [
    "# merge loan_table with the dataframe\n",
    "\n",
    "credit = pd.merge(credit, loan_table, on='client_id', how='left').drop(['date','loan_id'], axis=1)\n",
    "credit.shape"
   ]
  },
  {
   "cell_type": "code",
   "execution_count": 72,
   "metadata": {},
   "outputs": [
    {
     "data": {
      "text/html": [
       "<div>\n",
       "<style scoped>\n",
       "    .dataframe tbody tr th:only-of-type {\n",
       "        vertical-align: middle;\n",
       "    }\n",
       "\n",
       "    .dataframe tbody tr th {\n",
       "        vertical-align: top;\n",
       "    }\n",
       "\n",
       "    .dataframe thead th {\n",
       "        text-align: right;\n",
       "    }\n",
       "</style>\n",
       "<table border=\"1\" class=\"dataframe\">\n",
       "  <thead>\n",
       "    <tr style=\"text-align: right;\">\n",
       "      <th></th>\n",
       "      <th>client_id</th>\n",
       "      <th>age</th>\n",
       "      <th>gender</th>\n",
       "      <th>district</th>\n",
       "      <th>region</th>\n",
       "      <th>population</th>\n",
       "      <th>no_cities</th>\n",
       "      <th>ratio_urban</th>\n",
       "      <th>avg_sal</th>\n",
       "      <th>unemp_95</th>\n",
       "      <th>...</th>\n",
       "      <th>no_enterp</th>\n",
       "      <th>no_crimes95</th>\n",
       "      <th>no_crimes96</th>\n",
       "      <th>monthly_income</th>\n",
       "      <th>monthly_spending</th>\n",
       "      <th>daily_balance</th>\n",
       "      <th>loan_status</th>\n",
       "      <th>loan_term</th>\n",
       "      <th>days_loan_issued</th>\n",
       "      <th>months_loan_left</th>\n",
       "    </tr>\n",
       "  </thead>\n",
       "  <tbody>\n",
       "    <tr>\n",
       "      <th>0</th>\n",
       "      <td>1</td>\n",
       "      <td>29</td>\n",
       "      <td>F</td>\n",
       "      <td>Pisek</td>\n",
       "      <td>south Bohemia</td>\n",
       "      <td>70699</td>\n",
       "      <td>4</td>\n",
       "      <td>65.3</td>\n",
       "      <td>8968</td>\n",
       "      <td>2.83</td>\n",
       "      <td>...</td>\n",
       "      <td>131</td>\n",
       "      <td>1740</td>\n",
       "      <td>1910</td>\n",
       "      <td>4230.489840</td>\n",
       "      <td>28.739525</td>\n",
       "      <td>2773.997097</td>\n",
       "      <td>NaN</td>\n",
       "      <td>NaN</td>\n",
       "      <td>NaN</td>\n",
       "      <td>NaN</td>\n",
       "    </tr>\n",
       "    <tr>\n",
       "      <th>1</th>\n",
       "      <td>2</td>\n",
       "      <td>54</td>\n",
       "      <td>M</td>\n",
       "      <td>Hl.m. Praha</td>\n",
       "      <td>Prague</td>\n",
       "      <td>1204953</td>\n",
       "      <td>1</td>\n",
       "      <td>100.0</td>\n",
       "      <td>12541</td>\n",
       "      <td>0.29</td>\n",
       "      <td>...</td>\n",
       "      <td>167</td>\n",
       "      <td>85677</td>\n",
       "      <td>99107</td>\n",
       "      <td>22451.548735</td>\n",
       "      <td>61.624463</td>\n",
       "      <td>8184.843814</td>\n",
       "      <td>A</td>\n",
       "      <td>24.0</td>\n",
       "      <td>1821.0</td>\n",
       "      <td>0.0</td>\n",
       "    </tr>\n",
       "    <tr>\n",
       "      <th>2</th>\n",
       "      <td>3</td>\n",
       "      <td>59</td>\n",
       "      <td>F</td>\n",
       "      <td>Hl.m. Praha</td>\n",
       "      <td>Prague</td>\n",
       "      <td>1204953</td>\n",
       "      <td>1</td>\n",
       "      <td>100.0</td>\n",
       "      <td>12541</td>\n",
       "      <td>0.29</td>\n",
       "      <td>...</td>\n",
       "      <td>167</td>\n",
       "      <td>85677</td>\n",
       "      <td>99107</td>\n",
       "      <td>22451.548735</td>\n",
       "      <td>61.624463</td>\n",
       "      <td>8184.843814</td>\n",
       "      <td>A</td>\n",
       "      <td>24.0</td>\n",
       "      <td>1821.0</td>\n",
       "      <td>0.0</td>\n",
       "    </tr>\n",
       "    <tr>\n",
       "      <th>3</th>\n",
       "      <td>4</td>\n",
       "      <td>43</td>\n",
       "      <td>M</td>\n",
       "      <td>Kolin</td>\n",
       "      <td>central Bohemia</td>\n",
       "      <td>95616</td>\n",
       "      <td>6</td>\n",
       "      <td>51.4</td>\n",
       "      <td>9307</td>\n",
       "      <td>3.85</td>\n",
       "      <td>...</td>\n",
       "      <td>118</td>\n",
       "      <td>2616</td>\n",
       "      <td>3040</td>\n",
       "      <td>9578.911439</td>\n",
       "      <td>95.080401</td>\n",
       "      <td>5822.694280</td>\n",
       "      <td>NaN</td>\n",
       "      <td>NaN</td>\n",
       "      <td>NaN</td>\n",
       "      <td>NaN</td>\n",
       "    </tr>\n",
       "    <tr>\n",
       "      <th>4</th>\n",
       "      <td>5</td>\n",
       "      <td>39</td>\n",
       "      <td>F</td>\n",
       "      <td>Kolin</td>\n",
       "      <td>central Bohemia</td>\n",
       "      <td>95616</td>\n",
       "      <td>6</td>\n",
       "      <td>51.4</td>\n",
       "      <td>9307</td>\n",
       "      <td>3.85</td>\n",
       "      <td>...</td>\n",
       "      <td>118</td>\n",
       "      <td>2616</td>\n",
       "      <td>3040</td>\n",
       "      <td>9578.911439</td>\n",
       "      <td>95.080401</td>\n",
       "      <td>5822.694280</td>\n",
       "      <td>NaN</td>\n",
       "      <td>NaN</td>\n",
       "      <td>NaN</td>\n",
       "      <td>NaN</td>\n",
       "    </tr>\n",
       "  </tbody>\n",
       "</table>\n",
       "<p>5 rows × 21 columns</p>\n",
       "</div>"
      ],
      "text/plain": [
       "  client_id  age gender     district           region  population no_cities  \\\n",
       "0         1   29      F        Pisek    south Bohemia       70699         4   \n",
       "1         2   54      M  Hl.m. Praha           Prague     1204953         1   \n",
       "2         3   59      F  Hl.m. Praha           Prague     1204953         1   \n",
       "3         4   43      M        Kolin  central Bohemia       95616         6   \n",
       "4         5   39      F        Kolin  central Bohemia       95616         6   \n",
       "\n",
       "   ratio_urban  avg_sal unemp_95  ...  no_enterp  no_crimes95 no_crimes96  \\\n",
       "0         65.3     8968     2.83  ...        131         1740        1910   \n",
       "1        100.0    12541     0.29  ...        167        85677       99107   \n",
       "2        100.0    12541     0.29  ...        167        85677       99107   \n",
       "3         51.4     9307     3.85  ...        118         2616        3040   \n",
       "4         51.4     9307     3.85  ...        118         2616        3040   \n",
       "\n",
       "   monthly_income  monthly_spending  daily_balance  loan_status loan_term  \\\n",
       "0     4230.489840         28.739525    2773.997097          NaN       NaN   \n",
       "1    22451.548735         61.624463    8184.843814            A      24.0   \n",
       "2    22451.548735         61.624463    8184.843814            A      24.0   \n",
       "3     9578.911439         95.080401    5822.694280          NaN       NaN   \n",
       "4     9578.911439         95.080401    5822.694280          NaN       NaN   \n",
       "\n",
       "   days_loan_issued  months_loan_left  \n",
       "0               NaN               NaN  \n",
       "1            1821.0               0.0  \n",
       "2            1821.0               0.0  \n",
       "3               NaN               NaN  \n",
       "4               NaN               NaN  \n",
       "\n",
       "[5 rows x 21 columns]"
      ]
     },
     "execution_count": 72,
     "metadata": {},
     "output_type": "execute_result"
    }
   ],
   "source": [
    "credit.rename(columns = {'status':'loan_status', 'duration':'loan_term', \n",
    "                              'days_issued':'days_loan_issued', 'months_left':'months_loan_left'}, inplace = True)\n",
    "credit.head()"
   ]
  },
  {
   "cell_type": "code",
   "execution_count": 73,
   "metadata": {},
   "outputs": [
    {
     "data": {
      "text/html": [
       "<div>\n",
       "<style scoped>\n",
       "    .dataframe tbody tr th:only-of-type {\n",
       "        vertical-align: middle;\n",
       "    }\n",
       "\n",
       "    .dataframe tbody tr th {\n",
       "        vertical-align: top;\n",
       "    }\n",
       "\n",
       "    .dataframe thead th {\n",
       "        text-align: right;\n",
       "    }\n",
       "</style>\n",
       "<table border=\"1\" class=\"dataframe\">\n",
       "  <thead>\n",
       "    <tr style=\"text-align: right;\">\n",
       "      <th></th>\n",
       "      <th>client_id</th>\n",
       "      <th>order_id</th>\n",
       "      <th>amount</th>\n",
       "      <th>type</th>\n",
       "    </tr>\n",
       "  </thead>\n",
       "  <tbody>\n",
       "    <tr>\n",
       "      <th>0</th>\n",
       "      <td>1</td>\n",
       "      <td>29401</td>\n",
       "      <td>2452.0</td>\n",
       "      <td>household payment</td>\n",
       "    </tr>\n",
       "    <tr>\n",
       "      <th>1</th>\n",
       "      <td>10</td>\n",
       "      <td>29412</td>\n",
       "      <td>2612.0</td>\n",
       "      <td>household payment</td>\n",
       "    </tr>\n",
       "    <tr>\n",
       "      <th>2</th>\n",
       "      <td>10</td>\n",
       "      <td>29413</td>\n",
       "      <td>6712.0</td>\n",
       "      <td>None</td>\n",
       "    </tr>\n",
       "    <tr>\n",
       "      <th>3</th>\n",
       "      <td>100</td>\n",
       "      <td>29533</td>\n",
       "      <td>1709.0</td>\n",
       "      <td>leasing</td>\n",
       "    </tr>\n",
       "    <tr>\n",
       "      <th>4</th>\n",
       "      <td>100</td>\n",
       "      <td>29534</td>\n",
       "      <td>12452.0</td>\n",
       "      <td>household payment</td>\n",
       "    </tr>\n",
       "  </tbody>\n",
       "</table>\n",
       "</div>"
      ],
      "text/plain": [
       "  client_id  order_id   amount               type\n",
       "0         1     29401   2452.0  household payment\n",
       "1        10     29412   2612.0  household payment\n",
       "2        10     29413   6712.0               None\n",
       "3       100     29533   1709.0            leasing\n",
       "4       100     29534  12452.0  household payment"
      ]
     },
     "execution_count": 73,
     "metadata": {},
     "output_type": "execute_result"
    }
   ],
   "source": [
    "order_table.head()"
   ]
  },
  {
   "cell_type": "code",
   "execution_count": 74,
   "metadata": {},
   "outputs": [],
   "source": [
    "# before adding order table to the credit dataframe, create a column for each order type whose value is the amount of the order\n",
    "\n",
    "order_table = order_table.groupby(['client_id', 'type'])['amount'].sum().unstack().reset_index().fillna(0)\n"
   ]
  },
  {
   "cell_type": "code",
   "execution_count": 75,
   "metadata": {},
   "outputs": [
    {
     "data": {
      "text/plain": [
       "(5369, 25)"
      ]
     },
     "execution_count": 75,
     "metadata": {},
     "output_type": "execute_result"
    }
   ],
   "source": [
    "credit = pd.merge(credit, order_table, on='client_id', how='left')\n",
    "\n",
    "credit.shape"
   ]
  },
  {
   "cell_type": "code",
   "execution_count": 76,
   "metadata": {},
   "outputs": [
    {
     "data": {
      "text/plain": [
       "(5369, 29)"
      ]
     },
     "execution_count": 76,
     "metadata": {},
     "output_type": "execute_result"
    }
   ],
   "source": [
    "# Add credit card data to dataframe\n",
    "\n",
    "# card_table = card_table.groupby(['client_id', 'type'])['days_issued'].sum().unstack().reset_index().fillna(0)\n",
    "credit = pd.merge(credit, card_table, on='client_id', how='left')\n",
    "credit.shape"
   ]
  },
  {
   "cell_type": "code",
   "execution_count": 77,
   "metadata": {},
   "outputs": [],
   "source": [
    "credit.rename(columns = {'type':'card_type'}, inplace = True)\n",
    "credit = credit.drop(['issued', 'card_id'], axis = 1)"
   ]
  },
  {
   "cell_type": "code",
   "execution_count": 78,
   "metadata": {},
   "outputs": [
    {
     "data": {
      "text/plain": [
       "(5369, 27)"
      ]
     },
     "execution_count": 78,
     "metadata": {},
     "output_type": "execute_result"
    }
   ],
   "source": [
    "credit.shape"
   ]
  },
  {
   "cell_type": "code",
   "execution_count": 79,
   "metadata": {},
   "outputs": [],
   "source": [
    "# so 5,369 rows and 24 columns"
   ]
  },
  {
   "cell_type": "code",
   "execution_count": 80,
   "metadata": {},
   "outputs": [],
   "source": [
    "# Columns 'no_cities', 'unemp_95' & 'no_crimes95' should be numerical so we convert them\n",
    "\n",
    "credit['no_cities'] = pd.to_numeric(credit['no_cities'])"
   ]
  },
  {
   "cell_type": "code",
   "execution_count": 81,
   "metadata": {},
   "outputs": [
    {
     "data": {
      "text/plain": [
       "array([ 4,  1,  6,  5, 11,  8,  7, 10,  9,  3,  2], dtype=int64)"
      ]
     },
     "execution_count": 81,
     "metadata": {},
     "output_type": "execute_result"
    }
   ],
   "source": [
    "credit['no_cities'].unique()"
   ]
  },
  {
   "cell_type": "code",
   "execution_count": 82,
   "metadata": {},
   "outputs": [
    {
     "data": {
      "text/plain": [
       "array(['2.83', '0.29', '3.85', '3.83', '3.13', '2.51', '3.45', '3.73',\n",
       "       '6.49', '1.60', '4.73', '1.51', '1.79', '1.72', '4.75', '3.38',\n",
       "       '4.09', '2.52', '3.33', '2.26', '1.10', '5.38', '7.08', '2.65',\n",
       "       '1.12', '3.80', '7.34', '2.80', '2.28', '5.77', '4.01', '4.64',\n",
       "       '4.83', '2.82', '6.63', '4.46', '1.25', '3.79', '1.95', '2.64',\n",
       "       '5.75', '2.79', '3.52', '2.38', '1.67', '1.88', '3.32', '1.02',\n",
       "       '0.45', '2.53', '2.95', '0.65', '5.74', '2.77', '6.43', '1.39',\n",
       "       '0.56', '1.62', '3.24', '3.51', '5.93', '1.78', '?', '4.76',\n",
       "       '4.69', '2.47', '1.89', '1.42', '1.29', '2.41', '3.39'],\n",
       "      dtype=object)"
      ]
     },
     "execution_count": 82,
     "metadata": {},
     "output_type": "execute_result"
    }
   ],
   "source": [
    "credit['unemp_95'].unique()"
   ]
  },
  {
   "cell_type": "code",
   "execution_count": 83,
   "metadata": {},
   "outputs": [
    {
     "data": {
      "text/plain": [
       "array(['1740', '85677', '2616', '3804', '1845', '3496', '1879', '3729',\n",
       "       '6949', '18721', '3736', '2299', '6079', '2854', '4085', '18782',\n",
       "       '2985', '5623', '2564', '4355', '4289', '5796', '1089', '4063',\n",
       "       '2653', '1563', '999', '1874', '9672', '4947', '4340', '4484',\n",
       "       '2080', '3244', '3460', '5244', '2123', '818', '9878', '4147',\n",
       "       '5179', '1562', '2824', '6041', '4650', '2166', '1328', '1003',\n",
       "       '2159', '3659', '6445', '3384', '3475', '1850', '2640', '1029',\n",
       "       '2157', '1597', '5323', '5198', '3810', '2212', '1580', '2595',\n",
       "       '2247', '4980', '1655', '?', '2112', '1822', '1660', '6604',\n",
       "       '2719', '1658', '2879', '2987'], dtype=object)"
      ]
     },
     "execution_count": 83,
     "metadata": {},
     "output_type": "execute_result"
    }
   ],
   "source": [
    "credit['no_crimes95'].unique()"
   ]
  },
  {
   "cell_type": "code",
   "execution_count": 84,
   "metadata": {},
   "outputs": [
    {
     "data": {
      "text/plain": [
       "61"
      ]
     },
     "execution_count": 84,
     "metadata": {},
     "output_type": "execute_result"
    }
   ],
   "source": [
    "# unknown/missing values are represented by '?' in unemp_95 & no_crimes95 columns. \n",
    "# we investigate further by plotting their distribution & looking at how many of them there are\n",
    "credit[credit['unemp_95']=='?'].shape[0]"
   ]
  },
  {
   "cell_type": "code",
   "execution_count": 85,
   "metadata": {},
   "outputs": [
    {
     "data": {
      "text/plain": [
       "219     north Moravia\n",
       "220     north Moravia\n",
       "276     north Moravia\n",
       "321     north Moravia\n",
       "322     north Moravia\n",
       "            ...      \n",
       "4947    north Moravia\n",
       "4965    north Moravia\n",
       "5043    north Moravia\n",
       "5165    north Moravia\n",
       "5271    north Moravia\n",
       "Name: region, Length: 61, dtype: object"
      ]
     },
     "execution_count": 85,
     "metadata": {},
     "output_type": "execute_result"
    }
   ],
   "source": [
    "credit[credit['unemp_95']=='?']['region']"
   ]
  },
  {
   "cell_type": "code",
   "execution_count": 86,
   "metadata": {},
   "outputs": [
    {
     "data": {
      "text/plain": [
       "61"
      ]
     },
     "execution_count": 86,
     "metadata": {},
     "output_type": "execute_result"
    }
   ],
   "source": [
    "credit[credit['no_crimes95']=='?'].shape[0]"
   ]
  },
  {
   "cell_type": "code",
   "execution_count": 87,
   "metadata": {},
   "outputs": [
    {
     "data": {
      "text/plain": [
       "219     north Moravia\n",
       "220     north Moravia\n",
       "276     north Moravia\n",
       "321     north Moravia\n",
       "322     north Moravia\n",
       "            ...      \n",
       "4947    north Moravia\n",
       "4965    north Moravia\n",
       "5043    north Moravia\n",
       "5165    north Moravia\n",
       "5271    north Moravia\n",
       "Name: region, Length: 61, dtype: object"
      ]
     },
     "execution_count": 87,
     "metadata": {},
     "output_type": "execute_result"
    }
   ],
   "source": [
    "credit[credit['no_crimes95']=='?']['region']"
   ]
  },
  {
   "cell_type": "code",
   "execution_count": 88,
   "metadata": {},
   "outputs": [],
   "source": [
    "# assuming the figures haven't changed from '95 to '96, we replace the missing values in '95 data with the ones in'96'. \n",
    "# we first make a copy of the dataframe\n",
    "\n",
    "credit_ = credit.copy() "
   ]
  },
  {
   "cell_type": "code",
   "execution_count": 89,
   "metadata": {},
   "outputs": [],
   "source": [
    "old_values = credit_[credit_['no_crimes95']=='?']['no_crimes95'].tolist()\n",
    "new_values = credit_[credit_['no_crimes95']=='?']['no_crimes96'].tolist()\n",
    "credit_['no_crimes95'] = credit_['no_crimes95'].replace(old_values, new_values)"
   ]
  },
  {
   "cell_type": "code",
   "execution_count": 90,
   "metadata": {},
   "outputs": [
    {
     "data": {
      "text/plain": [
       "array([ 1740, 85677,  2616,  3804,  1845,  3496,  1879,  3729,  6949,\n",
       "       18721,  3736,  2299,  6079,  2854,  4085, 18782,  2985,  5623,\n",
       "        2564,  4355,  4289,  5796,  1089,  4063,  2653,  1563,   999,\n",
       "        1874,  9672,  4947,  4340,  4484,  2080,  3244,  3460,  5244,\n",
       "        2123,   818,  9878,  4147,  5179,  1562,  2824,  6041,  4650,\n",
       "        2166,  1328,  1003,  2159,  3659,  6445,  3384,  3475,  1850,\n",
       "        2640,  1029,  2157,  1597,  5323,  5198,  3810,  2212,  1580,\n",
       "        2595,  2247,  4980,  1655,  1358,  2112,  1822,  1660,  6604,\n",
       "        2719,  1658,  2879,  2987], dtype=int64)"
      ]
     },
     "execution_count": 90,
     "metadata": {},
     "output_type": "execute_result"
    }
   ],
   "source": [
    "credit_['no_crimes95'].unique()"
   ]
  },
  {
   "cell_type": "code",
   "execution_count": 91,
   "metadata": {},
   "outputs": [],
   "source": [
    "old_values = credit_[credit_['unemp_95']=='?']['unemp_95'].tolist()\n",
    "new_values = credit_[credit_['unemp_95']=='?']['unemp_96'].tolist()\n",
    "credit_['unemp_95'] = credit_['unemp_95'].replace(old_values, new_values)"
   ]
  },
  {
   "cell_type": "code",
   "execution_count": 92,
   "metadata": {},
   "outputs": [
    {
     "data": {
      "text/plain": [
       "array([2.83, 0.29, 3.85, 3.83, 3.13, 2.51, 3.45, 3.73, 6.49, 1.6 , 4.73,\n",
       "       1.51, 1.79, 1.72, 4.75, 3.38, 4.09, 2.52, 3.33, 2.26, 1.1 , 5.38,\n",
       "       7.08, 2.65, 1.12, 3.8 , 7.34, 2.8 , 2.28, 5.77, 4.01, 4.64, 4.83,\n",
       "       2.82, 6.63, 4.46, 1.25, 3.79, 1.95, 2.64, 5.75, 2.79, 3.52, 2.38,\n",
       "       1.67, 1.88, 3.32, 1.02, 0.45, 2.53, 2.95, 0.65, 5.74, 2.77, 6.43,\n",
       "       1.39, 0.56, 1.62, 3.24, 3.51, 5.93, 1.78, 7.01, 4.76, 4.69, 2.47,\n",
       "       1.89, 1.42, 1.29, 2.41, 3.39])"
      ]
     },
     "execution_count": 92,
     "metadata": {},
     "output_type": "execute_result"
    }
   ],
   "source": [
    "credit_['unemp_95'].unique()"
   ]
  },
  {
   "cell_type": "code",
   "execution_count": 93,
   "metadata": {},
   "outputs": [],
   "source": [
    "# we can now convert the columns to numeric \n",
    "credit_['no_crimes95'] = pd.to_numeric(credit_['no_crimes95'])\n",
    "credit_['unemp_95'] = pd.to_numeric(credit_['unemp_95'])"
   ]
  },
  {
   "cell_type": "markdown",
   "metadata": {},
   "source": [
    "### Encoding"
   ]
  },
  {
   "cell_type": "code",
   "execution_count": 94,
   "metadata": {},
   "outputs": [
    {
     "name": "stdout",
     "output_type": "stream",
     "text": [
      "<class 'pandas.core.frame.DataFrame'>\n",
      "Int64Index: 5369 entries, 0 to 5368\n",
      "Data columns (total 27 columns):\n",
      " #   Column             Non-Null Count  Dtype  \n",
      "---  ------             --------------  -----  \n",
      " 0   client_id          5369 non-null   object \n",
      " 1   age                5369 non-null   int64  \n",
      " 2   gender             5369 non-null   object \n",
      " 3   district           5369 non-null   object \n",
      " 4   region             5369 non-null   object \n",
      " 5   population         5369 non-null   int64  \n",
      " 6   no_cities          5369 non-null   int64  \n",
      " 7   ratio_urban        5369 non-null   float64\n",
      " 8   avg_sal            5369 non-null   int64  \n",
      " 9   unemp_95           5369 non-null   float64\n",
      " 10  unemp_96           5369 non-null   float64\n",
      " 11  no_enterp          5369 non-null   int64  \n",
      " 12  no_crimes95        5369 non-null   int64  \n",
      " 13  no_crimes96        5369 non-null   int64  \n",
      " 14  monthly_income     5369 non-null   float64\n",
      " 15  monthly_spending   5369 non-null   float64\n",
      " 16  daily_balance      5369 non-null   float64\n",
      " 17  loan_status        827 non-null    object \n",
      " 18  loan_term          827 non-null    float64\n",
      " 19  days_loan_issued   827 non-null    float64\n",
      " 20  months_loan_left   827 non-null    float64\n",
      " 21  household payment  4560 non-null   float64\n",
      " 22  insurance payment  4560 non-null   float64\n",
      " 23  leasing            4560 non-null   float64\n",
      " 24  loan payment       4560 non-null   float64\n",
      " 25  card_type          892 non-null    object \n",
      " 26  days_ccard_issued  892 non-null    float64\n",
      "dtypes: float64(14), int64(7), object(6)\n",
      "memory usage: 1.1+ MB\n"
     ]
    }
   ],
   "source": [
    "credit_.info()"
   ]
  },
  {
   "cell_type": "code",
   "execution_count": 95,
   "metadata": {},
   "outputs": [
    {
     "data": {
      "text/plain": [
       "client_id               0\n",
       "age                     0\n",
       "gender                  0\n",
       "district                0\n",
       "region                  0\n",
       "population              0\n",
       "no_cities               0\n",
       "ratio_urban             0\n",
       "avg_sal                 0\n",
       "unemp_95                0\n",
       "unemp_96                0\n",
       "no_enterp               0\n",
       "no_crimes95             0\n",
       "no_crimes96             0\n",
       "monthly_income          0\n",
       "monthly_spending        0\n",
       "daily_balance           0\n",
       "loan_status          4542\n",
       "loan_term            4542\n",
       "days_loan_issued     4542\n",
       "months_loan_left     4542\n",
       "household payment     809\n",
       "insurance payment     809\n",
       "leasing               809\n",
       "loan payment          809\n",
       "card_type            4477\n",
       "days_ccard_issued    4477\n",
       "dtype: int64"
      ]
     },
     "execution_count": 95,
     "metadata": {},
     "output_type": "execute_result"
    }
   ],
   "source": [
    "credit_.isna().sum()"
   ]
  },
  {
   "cell_type": "code",
   "execution_count": 96,
   "metadata": {},
   "outputs": [],
   "source": [
    "# missing values denote transactions or products that are not applicable to a client \n",
    "# so we will replace them with 'none' and '0'\n",
    "\n",
    "credit_.loc[:,\"loan_status\"].replace(np.nan,\"none\",inplace=True)\n",
    "credit_.loc[:,\"loan_term\"].replace(np.nan,0,inplace=True)\n",
    "credit_.loc[:,\"days_loan_issued\"].replace(np.nan,0,inplace=True)\n",
    "credit_.loc[:,\"months_loan_left\"].replace(np.nan,0,inplace=True)\n",
    "credit_.loc[:,\"household payment\"].replace(np.nan,0,inplace=True)\n",
    "credit_.loc[:,\"loan payment\"].replace(np.nan,0,inplace=True)\n",
    "credit_.loc[:,\"card_type\"].replace(np.nan,\"none\",inplace=True)\n",
    "credit_.loc[:,\"days_ccard_issued\"].replace(np.nan,0,inplace=True)\n",
    "credit_.loc[:,\"insurance payment\"].replace(np.nan,0,inplace=True)\n",
    "credit_.loc[:,\"leasing\"].replace(np.nan,0,inplace=True)"
   ]
  },
  {
   "cell_type": "code",
   "execution_count": 97,
   "metadata": {},
   "outputs": [],
   "source": [
    "# replace gender with 1 for female and 0 for male in gender column & replace it with Female column\n",
    "\n",
    "credit_[\"female\"] = credit_[\"gender\"].map(lambda gender: 1 if gender == \"F\" else 0)\n",
    "credit_.drop(\"gender\", axis = 1, inplace=True )"
   ]
  },
  {
   "cell_type": "code",
   "execution_count": 98,
   "metadata": {},
   "outputs": [
    {
     "data": {
      "text/plain": [
       "array([1, 0], dtype=int64)"
      ]
     },
     "execution_count": 98,
     "metadata": {},
     "output_type": "execute_result"
    }
   ],
   "source": [
    "credit_['female'].unique()"
   ]
  },
  {
   "cell_type": "code",
   "execution_count": 99,
   "metadata": {},
   "outputs": [
    {
     "data": {
      "text/plain": [
       "client_id            0\n",
       "age                  0\n",
       "district             0\n",
       "region               0\n",
       "population           0\n",
       "no_cities            0\n",
       "ratio_urban          0\n",
       "avg_sal              0\n",
       "unemp_95             0\n",
       "unemp_96             0\n",
       "no_enterp            0\n",
       "no_crimes95          0\n",
       "no_crimes96          0\n",
       "monthly_income       0\n",
       "monthly_spending     0\n",
       "daily_balance        0\n",
       "loan_status          0\n",
       "loan_term            0\n",
       "days_loan_issued     0\n",
       "months_loan_left     0\n",
       "household payment    0\n",
       "insurance payment    0\n",
       "leasing              0\n",
       "loan payment         0\n",
       "card_type            0\n",
       "days_ccard_issued    0\n",
       "female               0\n",
       "dtype: int64"
      ]
     },
     "execution_count": 99,
     "metadata": {},
     "output_type": "execute_result"
    }
   ],
   "source": [
    "credit_.isna().sum()"
   ]
  },
  {
   "cell_type": "code",
   "execution_count": 100,
   "metadata": {},
   "outputs": [],
   "source": [
    "# convert categorical data to numeric using LabelEncoder\n",
    "\n",
    "le_district = LabelEncoder()\n",
    "le_region = LabelEncoder()\n",
    "le_card = LabelEncoder()\n",
    "\n",
    "\n",
    "credit_['district'] = le_district.fit_transform(credit_['district'])\n",
    "credit_['region'] = le_region.fit_transform(credit_['region'])\n",
    "credit_['card_type'] = le_card.fit_transform(credit_['card_type'])\n",
    "\n"
   ]
  },
  {
   "cell_type": "code",
   "execution_count": 101,
   "metadata": {},
   "outputs": [],
   "source": [
    "le_loan_status = LabelEncoder()\n",
    "credit_['le_loan_status'] = le_loan_status.fit_transform(credit_['loan_status'])"
   ]
  },
  {
   "cell_type": "code",
   "execution_count": 102,
   "metadata": {},
   "outputs": [
    {
     "data": {
      "text/plain": [
       "Index(['client_id', 'age', 'district', 'region', 'population', 'no_cities',\n",
       "       'ratio_urban', 'avg_sal', 'unemp_95', 'unemp_96', 'no_enterp',\n",
       "       'no_crimes95', 'no_crimes96', 'monthly_income', 'monthly_spending',\n",
       "       'daily_balance', 'loan_status', 'loan_term', 'days_loan_issued',\n",
       "       'months_loan_left', 'household payment', 'insurance payment', 'leasing',\n",
       "       'loan payment', 'card_type', 'days_ccard_issued', 'female',\n",
       "       'le_loan_status'],\n",
       "      dtype='object')"
      ]
     },
     "execution_count": 102,
     "metadata": {},
     "output_type": "execute_result"
    }
   ],
   "source": [
    "credit_.columns"
   ]
  },
  {
   "cell_type": "code",
   "execution_count": 103,
   "metadata": {},
   "outputs": [
    {
     "data": {
      "text/html": [
       "<div>\n",
       "<style scoped>\n",
       "    .dataframe tbody tr th:only-of-type {\n",
       "        vertical-align: middle;\n",
       "    }\n",
       "\n",
       "    .dataframe tbody tr th {\n",
       "        vertical-align: top;\n",
       "    }\n",
       "\n",
       "    .dataframe thead th {\n",
       "        text-align: right;\n",
       "    }\n",
       "</style>\n",
       "<table border=\"1\" class=\"dataframe\">\n",
       "  <thead>\n",
       "    <tr style=\"text-align: right;\">\n",
       "      <th>loan_status</th>\n",
       "      <th>A</th>\n",
       "      <th>B</th>\n",
       "      <th>C</th>\n",
       "      <th>D</th>\n",
       "      <th>none</th>\n",
       "    </tr>\n",
       "    <tr>\n",
       "      <th>le_loan_status</th>\n",
       "      <th></th>\n",
       "      <th></th>\n",
       "      <th></th>\n",
       "      <th></th>\n",
       "      <th></th>\n",
       "    </tr>\n",
       "  </thead>\n",
       "  <tbody>\n",
       "    <tr>\n",
       "      <th>0</th>\n",
       "      <td>258</td>\n",
       "      <td>0</td>\n",
       "      <td>0</td>\n",
       "      <td>0</td>\n",
       "      <td>0</td>\n",
       "    </tr>\n",
       "    <tr>\n",
       "      <th>1</th>\n",
       "      <td>0</td>\n",
       "      <td>31</td>\n",
       "      <td>0</td>\n",
       "      <td>0</td>\n",
       "      <td>0</td>\n",
       "    </tr>\n",
       "    <tr>\n",
       "      <th>2</th>\n",
       "      <td>0</td>\n",
       "      <td>0</td>\n",
       "      <td>493</td>\n",
       "      <td>0</td>\n",
       "      <td>0</td>\n",
       "    </tr>\n",
       "    <tr>\n",
       "      <th>3</th>\n",
       "      <td>0</td>\n",
       "      <td>0</td>\n",
       "      <td>0</td>\n",
       "      <td>45</td>\n",
       "      <td>0</td>\n",
       "    </tr>\n",
       "    <tr>\n",
       "      <th>4</th>\n",
       "      <td>0</td>\n",
       "      <td>0</td>\n",
       "      <td>0</td>\n",
       "      <td>0</td>\n",
       "      <td>4542</td>\n",
       "    </tr>\n",
       "  </tbody>\n",
       "</table>\n",
       "</div>"
      ],
      "text/plain": [
       "loan_status       A   B    C   D  none\n",
       "le_loan_status                        \n",
       "0               258   0    0   0     0\n",
       "1                 0  31    0   0     0\n",
       "2                 0   0  493   0     0\n",
       "3                 0   0    0  45     0\n",
       "4                 0   0    0   0  4542"
      ]
     },
     "execution_count": 103,
     "metadata": {},
     "output_type": "execute_result"
    }
   ],
   "source": [
    "pd.crosstab(credit_[\"le_loan_status\"],credit_[\"loan_status\"])"
   ]
  },
  {
   "cell_type": "markdown",
   "metadata": {},
   "source": [
    "Loan Status:\n",
    "* 0 = A (contract finished)\n",
    "* 1 = B (contract finished, loan not paid)\n",
    "* 2 = C (running contract)\n",
    "* 3 = D (running contract, client in debt)\n",
    "* 4 = none (no loan)"
   ]
  },
  {
   "cell_type": "code",
   "execution_count": 104,
   "metadata": {},
   "outputs": [],
   "source": [
    "credit_[\"loan_status\"] = credit_[\"le_loan_status\"]"
   ]
  },
  {
   "cell_type": "code",
   "execution_count": 107,
   "metadata": {},
   "outputs": [
    {
     "data": {
      "text/plain": [
       "0    4\n",
       "1    0\n",
       "2    0\n",
       "3    4\n",
       "4    4\n",
       "Name: le_loan_status, dtype: int32"
      ]
     },
     "execution_count": 107,
     "metadata": {},
     "output_type": "execute_result"
    }
   ],
   "source": [
    "credit_['le_loan_status'].head()"
   ]
  },
  {
   "cell_type": "code",
   "execution_count": 115,
   "metadata": {},
   "outputs": [],
   "source": [
    "credit_=credit_.drop('le_loan_status', axis=1)"
   ]
  },
  {
   "cell_type": "code",
   "execution_count": 116,
   "metadata": {},
   "outputs": [
    {
     "data": {
      "text/plain": [
       "Index(['client_id', 'age', 'district', 'region', 'population', 'no_cities',\n",
       "       'ratio_urban', 'avg_sal', 'unemp_95', 'unemp_96', 'no_enterp',\n",
       "       'no_crimes95', 'no_crimes96', 'monthly_income', 'monthly_spending',\n",
       "       'daily_balance', 'loan_status', 'loan_term', 'days_loan_issued',\n",
       "       'months_loan_left', 'household payment', 'insurance payment', 'leasing',\n",
       "       'loan payment', 'card_type', 'days_ccard_issued', 'female'],\n",
       "      dtype='object')"
      ]
     },
     "execution_count": 116,
     "metadata": {},
     "output_type": "execute_result"
    }
   ],
   "source": [
    "credit_.columns"
   ]
  },
  {
   "cell_type": "markdown",
   "metadata": {},
   "source": [
    "### Define Target Variable"
   ]
  },
  {
   "cell_type": "markdown",
   "metadata": {},
   "source": [
    "Before defining the parameters for our target variable, we will first find pattern in our data using unsupervised learning, K-Means clustering "
   ]
  },
  {
   "cell_type": "code",
   "execution_count": 119,
   "metadata": {},
   "outputs": [
    {
     "data": {
      "text/html": [
       "<div>\n",
       "<style scoped>\n",
       "    .dataframe tbody tr th:only-of-type {\n",
       "        vertical-align: middle;\n",
       "    }\n",
       "\n",
       "    .dataframe tbody tr th {\n",
       "        vertical-align: top;\n",
       "    }\n",
       "\n",
       "    .dataframe thead th {\n",
       "        text-align: right;\n",
       "    }\n",
       "</style>\n",
       "<table border=\"1\" class=\"dataframe\">\n",
       "  <thead>\n",
       "    <tr style=\"text-align: right;\">\n",
       "      <th></th>\n",
       "      <th>age</th>\n",
       "      <th>district</th>\n",
       "      <th>region</th>\n",
       "      <th>population</th>\n",
       "      <th>no_cities</th>\n",
       "      <th>ratio_urban</th>\n",
       "      <th>avg_sal</th>\n",
       "      <th>unemp_95</th>\n",
       "      <th>unemp_96</th>\n",
       "      <th>no_enterp</th>\n",
       "      <th>...</th>\n",
       "      <th>loan_term</th>\n",
       "      <th>days_loan_issued</th>\n",
       "      <th>months_loan_left</th>\n",
       "      <th>household payment</th>\n",
       "      <th>insurance payment</th>\n",
       "      <th>leasing</th>\n",
       "      <th>loan payment</th>\n",
       "      <th>card_type</th>\n",
       "      <th>days_ccard_issued</th>\n",
       "      <th>female</th>\n",
       "    </tr>\n",
       "  </thead>\n",
       "  <tbody>\n",
       "    <tr>\n",
       "      <th>0</th>\n",
       "      <td>29</td>\n",
       "      <td>46</td>\n",
       "      <td>5</td>\n",
       "      <td>70699</td>\n",
       "      <td>4</td>\n",
       "      <td>65.3</td>\n",
       "      <td>8968</td>\n",
       "      <td>2.83</td>\n",
       "      <td>3.35</td>\n",
       "      <td>131</td>\n",
       "      <td>...</td>\n",
       "      <td>0.0</td>\n",
       "      <td>0.0</td>\n",
       "      <td>0.000000</td>\n",
       "      <td>2452.0</td>\n",
       "      <td>0.0</td>\n",
       "      <td>0.0</td>\n",
       "      <td>0.0</td>\n",
       "      <td>3</td>\n",
       "      <td>0.0</td>\n",
       "      <td>1</td>\n",
       "    </tr>\n",
       "    <tr>\n",
       "      <th>1</th>\n",
       "      <td>54</td>\n",
       "      <td>17</td>\n",
       "      <td>0</td>\n",
       "      <td>1204953</td>\n",
       "      <td>1</td>\n",
       "      <td>100.0</td>\n",
       "      <td>12541</td>\n",
       "      <td>0.29</td>\n",
       "      <td>0.43</td>\n",
       "      <td>167</td>\n",
       "      <td>...</td>\n",
       "      <td>24.0</td>\n",
       "      <td>1821.0</td>\n",
       "      <td>0.000000</td>\n",
       "      <td>7266.0</td>\n",
       "      <td>0.0</td>\n",
       "      <td>0.0</td>\n",
       "      <td>3372.7</td>\n",
       "      <td>3</td>\n",
       "      <td>0.0</td>\n",
       "      <td>0</td>\n",
       "    </tr>\n",
       "    <tr>\n",
       "      <th>2</th>\n",
       "      <td>59</td>\n",
       "      <td>17</td>\n",
       "      <td>0</td>\n",
       "      <td>1204953</td>\n",
       "      <td>1</td>\n",
       "      <td>100.0</td>\n",
       "      <td>12541</td>\n",
       "      <td>0.29</td>\n",
       "      <td>0.43</td>\n",
       "      <td>167</td>\n",
       "      <td>...</td>\n",
       "      <td>24.0</td>\n",
       "      <td>1821.0</td>\n",
       "      <td>0.000000</td>\n",
       "      <td>7266.0</td>\n",
       "      <td>0.0</td>\n",
       "      <td>0.0</td>\n",
       "      <td>3372.7</td>\n",
       "      <td>3</td>\n",
       "      <td>0.0</td>\n",
       "      <td>1</td>\n",
       "    </tr>\n",
       "    <tr>\n",
       "      <th>3</th>\n",
       "      <td>43</td>\n",
       "      <td>29</td>\n",
       "      <td>1</td>\n",
       "      <td>95616</td>\n",
       "      <td>6</td>\n",
       "      <td>51.4</td>\n",
       "      <td>9307</td>\n",
       "      <td>3.85</td>\n",
       "      <td>4.43</td>\n",
       "      <td>118</td>\n",
       "      <td>...</td>\n",
       "      <td>0.0</td>\n",
       "      <td>0.0</td>\n",
       "      <td>0.000000</td>\n",
       "      <td>1135.0</td>\n",
       "      <td>3539.0</td>\n",
       "      <td>0.0</td>\n",
       "      <td>0.0</td>\n",
       "      <td>3</td>\n",
       "      <td>0.0</td>\n",
       "      <td>0</td>\n",
       "    </tr>\n",
       "    <tr>\n",
       "      <th>4</th>\n",
       "      <td>39</td>\n",
       "      <td>29</td>\n",
       "      <td>1</td>\n",
       "      <td>95616</td>\n",
       "      <td>6</td>\n",
       "      <td>51.4</td>\n",
       "      <td>9307</td>\n",
       "      <td>3.85</td>\n",
       "      <td>4.43</td>\n",
       "      <td>118</td>\n",
       "      <td>...</td>\n",
       "      <td>0.0</td>\n",
       "      <td>0.0</td>\n",
       "      <td>0.000000</td>\n",
       "      <td>1135.0</td>\n",
       "      <td>3539.0</td>\n",
       "      <td>0.0</td>\n",
       "      <td>0.0</td>\n",
       "      <td>3</td>\n",
       "      <td>0.0</td>\n",
       "      <td>1</td>\n",
       "    </tr>\n",
       "    <tr>\n",
       "      <th>...</th>\n",
       "      <td>...</td>\n",
       "      <td>...</td>\n",
       "      <td>...</td>\n",
       "      <td>...</td>\n",
       "      <td>...</td>\n",
       "      <td>...</td>\n",
       "      <td>...</td>\n",
       "      <td>...</td>\n",
       "      <td>...</td>\n",
       "      <td>...</td>\n",
       "      <td>...</td>\n",
       "      <td>...</td>\n",
       "      <td>...</td>\n",
       "      <td>...</td>\n",
       "      <td>...</td>\n",
       "      <td>...</td>\n",
       "      <td>...</td>\n",
       "      <td>...</td>\n",
       "      <td>...</td>\n",
       "      <td>...</td>\n",
       "      <td>...</td>\n",
       "    </tr>\n",
       "    <tr>\n",
       "      <th>5364</th>\n",
       "      <td>54</td>\n",
       "      <td>17</td>\n",
       "      <td>0</td>\n",
       "      <td>1204953</td>\n",
       "      <td>1</td>\n",
       "      <td>100.0</td>\n",
       "      <td>12541</td>\n",
       "      <td>0.29</td>\n",
       "      <td>0.43</td>\n",
       "      <td>167</td>\n",
       "      <td>...</td>\n",
       "      <td>60.0</td>\n",
       "      <td>1159.0</td>\n",
       "      <td>21.366667</td>\n",
       "      <td>10886.0</td>\n",
       "      <td>0.0</td>\n",
       "      <td>0.0</td>\n",
       "      <td>6998.0</td>\n",
       "      <td>3</td>\n",
       "      <td>0.0</td>\n",
       "      <td>1</td>\n",
       "    </tr>\n",
       "    <tr>\n",
       "      <th>5365</th>\n",
       "      <td>56</td>\n",
       "      <td>17</td>\n",
       "      <td>0</td>\n",
       "      <td>1204953</td>\n",
       "      <td>1</td>\n",
       "      <td>100.0</td>\n",
       "      <td>12541</td>\n",
       "      <td>0.29</td>\n",
       "      <td>0.43</td>\n",
       "      <td>167</td>\n",
       "      <td>...</td>\n",
       "      <td>60.0</td>\n",
       "      <td>1159.0</td>\n",
       "      <td>21.366667</td>\n",
       "      <td>10886.0</td>\n",
       "      <td>0.0</td>\n",
       "      <td>0.0</td>\n",
       "      <td>6998.0</td>\n",
       "      <td>3</td>\n",
       "      <td>0.0</td>\n",
       "      <td>0</td>\n",
       "    </tr>\n",
       "    <tr>\n",
       "      <th>5366</th>\n",
       "      <td>31</td>\n",
       "      <td>67</td>\n",
       "      <td>6</td>\n",
       "      <td>117897</td>\n",
       "      <td>6</td>\n",
       "      <td>53.8</td>\n",
       "      <td>8814</td>\n",
       "      <td>4.76</td>\n",
       "      <td>5.74</td>\n",
       "      <td>107</td>\n",
       "      <td>...</td>\n",
       "      <td>12.0</td>\n",
       "      <td>877.0</td>\n",
       "      <td>0.000000</td>\n",
       "      <td>4518.0</td>\n",
       "      <td>0.0</td>\n",
       "      <td>0.0</td>\n",
       "      <td>4502.3</td>\n",
       "      <td>0</td>\n",
       "      <td>1297.0</td>\n",
       "      <td>0</td>\n",
       "    </tr>\n",
       "    <tr>\n",
       "      <th>5367</th>\n",
       "      <td>37</td>\n",
       "      <td>6</td>\n",
       "      <td>4</td>\n",
       "      <td>106054</td>\n",
       "      <td>6</td>\n",
       "      <td>63.1</td>\n",
       "      <td>8110</td>\n",
       "      <td>5.77</td>\n",
       "      <td>6.55</td>\n",
       "      <td>109</td>\n",
       "      <td>...</td>\n",
       "      <td>24.0</td>\n",
       "      <td>734.0</td>\n",
       "      <td>0.000000</td>\n",
       "      <td>4780.0</td>\n",
       "      <td>330.0</td>\n",
       "      <td>0.0</td>\n",
       "      <td>5392.0</td>\n",
       "      <td>3</td>\n",
       "      <td>0.0</td>\n",
       "      <td>1</td>\n",
       "    </tr>\n",
       "    <tr>\n",
       "      <th>5368</th>\n",
       "      <td>46</td>\n",
       "      <td>43</td>\n",
       "      <td>4</td>\n",
       "      <td>323870</td>\n",
       "      <td>1</td>\n",
       "      <td>100.0</td>\n",
       "      <td>10673</td>\n",
       "      <td>4.75</td>\n",
       "      <td>5.44</td>\n",
       "      <td>100</td>\n",
       "      <td>...</td>\n",
       "      <td>0.0</td>\n",
       "      <td>0.0</td>\n",
       "      <td>0.000000</td>\n",
       "      <td>0.0</td>\n",
       "      <td>0.0</td>\n",
       "      <td>0.0</td>\n",
       "      <td>0.0</td>\n",
       "      <td>3</td>\n",
       "      <td>0.0</td>\n",
       "      <td>1</td>\n",
       "    </tr>\n",
       "  </tbody>\n",
       "</table>\n",
       "<p>5369 rows × 26 columns</p>\n",
       "</div>"
      ],
      "text/plain": [
       "      age  district  region  population  no_cities  ratio_urban  avg_sal  \\\n",
       "0      29        46       5       70699          4         65.3     8968   \n",
       "1      54        17       0     1204953          1        100.0    12541   \n",
       "2      59        17       0     1204953          1        100.0    12541   \n",
       "3      43        29       1       95616          6         51.4     9307   \n",
       "4      39        29       1       95616          6         51.4     9307   \n",
       "...   ...       ...     ...         ...        ...          ...      ...   \n",
       "5364   54        17       0     1204953          1        100.0    12541   \n",
       "5365   56        17       0     1204953          1        100.0    12541   \n",
       "5366   31        67       6      117897          6         53.8     8814   \n",
       "5367   37         6       4      106054          6         63.1     8110   \n",
       "5368   46        43       4      323870          1        100.0    10673   \n",
       "\n",
       "      unemp_95  unemp_96  no_enterp  ...  loan_term  days_loan_issued  \\\n",
       "0         2.83      3.35        131  ...        0.0               0.0   \n",
       "1         0.29      0.43        167  ...       24.0            1821.0   \n",
       "2         0.29      0.43        167  ...       24.0            1821.0   \n",
       "3         3.85      4.43        118  ...        0.0               0.0   \n",
       "4         3.85      4.43        118  ...        0.0               0.0   \n",
       "...        ...       ...        ...  ...        ...               ...   \n",
       "5364      0.29      0.43        167  ...       60.0            1159.0   \n",
       "5365      0.29      0.43        167  ...       60.0            1159.0   \n",
       "5366      4.76      5.74        107  ...       12.0             877.0   \n",
       "5367      5.77      6.55        109  ...       24.0             734.0   \n",
       "5368      4.75      5.44        100  ...        0.0               0.0   \n",
       "\n",
       "      months_loan_left  household payment  insurance payment  leasing  \\\n",
       "0             0.000000             2452.0                0.0      0.0   \n",
       "1             0.000000             7266.0                0.0      0.0   \n",
       "2             0.000000             7266.0                0.0      0.0   \n",
       "3             0.000000             1135.0             3539.0      0.0   \n",
       "4             0.000000             1135.0             3539.0      0.0   \n",
       "...                ...                ...                ...      ...   \n",
       "5364         21.366667            10886.0                0.0      0.0   \n",
       "5365         21.366667            10886.0                0.0      0.0   \n",
       "5366          0.000000             4518.0                0.0      0.0   \n",
       "5367          0.000000             4780.0              330.0      0.0   \n",
       "5368          0.000000                0.0                0.0      0.0   \n",
       "\n",
       "      loan payment  card_type  days_ccard_issued  female  \n",
       "0              0.0          3                0.0       1  \n",
       "1           3372.7          3                0.0       0  \n",
       "2           3372.7          3                0.0       1  \n",
       "3              0.0          3                0.0       0  \n",
       "4              0.0          3                0.0       1  \n",
       "...            ...        ...                ...     ...  \n",
       "5364        6998.0          3                0.0       1  \n",
       "5365        6998.0          3                0.0       0  \n",
       "5366        4502.3          0             1297.0       0  \n",
       "5367        5392.0          3                0.0       1  \n",
       "5368           0.0          3                0.0       1  \n",
       "\n",
       "[5369 rows x 26 columns]"
      ]
     },
     "execution_count": 119,
     "metadata": {},
     "output_type": "execute_result"
    }
   ],
   "source": [
    "credit_[credit_.columns[1:]]"
   ]
  },
  {
   "cell_type": "code",
   "execution_count": 124,
   "metadata": {},
   "outputs": [],
   "source": [
    "RANDOM_STATE = 200 # seed to recreate results"
   ]
  },
  {
   "cell_type": "code",
   "execution_count": 125,
   "metadata": {},
   "outputs": [
    {
     "data": {
      "text/plain": [
       "Text(0, 0.5, 'Inertia')"
      ]
     },
     "execution_count": 125,
     "metadata": {},
     "output_type": "execute_result"
    },
    {
     "data": {
      "image/png": "[encoded data removed]",
      "text/plain": [
       "<Figure size 504x360 with 1 Axes>"
      ]
     },
     "metadata": {},
     "output_type": "display_data"
    }
   ],
   "source": [
    "#Using the elbow method to find the optimum number of clusters\n",
    "\n",
    "X = credit_[credit_.columns[1:]]\n",
    "\n",
    "inertia_list = []\n",
    "\n",
    "for i in range(1,10):\n",
    "    kmeans = KMeans(n_clusters=i, random_state = RANDOM_STATE)\n",
    "    kmeans.fit(X)\n",
    "    inertia_list.append(kmeans.inertia_)\n",
    "    \n",
    "# Show graph elbow method\n",
    "plt.figure(figsize=(7,5))\n",
    "plt.plot(range(1,10),inertia_list,marker='o',markerfacecolor='green',linestyle='dashed')\n",
    "plt.title('K value vs Inertia')\n",
    "plt.xlabel('K value')\n",
    "plt.ylabel('Inertia')"
   ]
  },
  {
   "cell_type": "code",
   "execution_count": 126,
   "metadata": {},
   "outputs": [],
   "source": [
    "# Declaring Model\n",
    "model = KMeans(n_clusters=2, random_state = RANDOM_STATE)\n",
    "\n",
    "# Fitting Model\n",
    "labels = model.fit_predict(X)\n",
    "df = pd.DataFrame(labels)"
   ]
  },
  {
   "cell_type": "code",
   "execution_count": 127,
   "metadata": {},
   "outputs": [
    {
     "data": {
      "text/plain": [
       "0    4706\n",
       "1     663\n",
       "dtype: int64"
      ]
     },
     "execution_count": 127,
     "metadata": {},
     "output_type": "execute_result"
    }
   ],
   "source": [
    "df.value_counts()"
   ]
  },
  {
   "cell_type": "code",
   "execution_count": 129,
   "metadata": {},
   "outputs": [
    {
     "data": {
      "text/plain": [
       "count     5369.000000\n",
       "mean      7029.858862\n",
       "std       3906.014140\n",
       "min        211.176471\n",
       "25%       3868.316461\n",
       "50%       6388.536013\n",
       "75%       9348.393120\n",
       "max      26297.662332\n",
       "Name: daily_balance, dtype: float64"
      ]
     },
     "execution_count": 129,
     "metadata": {},
     "output_type": "execute_result"
    }
   ],
   "source": [
    "credit_['daily_balance'].describe()"
   ]
  },
  {
   "cell_type": "code",
   "execution_count": 130,
   "metadata": {},
   "outputs": [],
   "source": [
    "# The above model shows customers are divided into 2 clusters\n",
    "# We will define the target variable based on these 2 clusters (12% in cluster 0 and 88% in cluster 1)\n",
    "\n",
    "# We can see that 75% of customers have an average daily balance of less than £9,300, \n",
    "# so we take the 80% percentile at roughly £11K & use it as the cutoff point to help define the target variable.\n",
    "# We will define a creditworthy person as someone who has an average daily balance of at least £11000 \n",
    "# and loan_status other than 1(in default) or 3(in debt)\n",
    "\n",
    "credit_data = credit_.copy()\n",
    "\n",
    "credit_data[\"daily_balance\"] = credit_[\"daily_balance\"].map(lambda val: 1 if val < 11000 else 0)\n",
    "credit_data[\"loan_status\"] = credit_[\"loan_status\"].map(lambda val: 1 if val == (1 or 3) else 0)\n",
    "\n",
    "credit_data['Creditworthy'] = credit_data[\"daily_balance\"] + credit_data[\"loan_status\"]\n",
    "# if average_bal + loan_status is equal to 0 then, creditworthy = 1\n",
    "credit_data['Creditworthy'] = credit_data['Creditworthy'].map(lambda val: 1 if val == 0 else 0)"
   ]
  },
  {
   "cell_type": "code",
   "execution_count": 131,
   "metadata": {},
   "outputs": [
    {
     "data": {
      "text/plain": [
       "0    4515\n",
       "1     854\n",
       "Name: Creditworthy, dtype: int64"
      ]
     },
     "execution_count": 131,
     "metadata": {},
     "output_type": "execute_result"
    }
   ],
   "source": [
    "credit_data['Creditworthy'].value_counts()"
   ]
  },
  {
   "cell_type": "code",
   "execution_count": 132,
   "metadata": {},
   "outputs": [],
   "source": [
    "credit_data.drop(['daily_balance','loan_status'], axis = 1, inplace=True )\n",
    "\n",
    "# we have to drop the average balance & loan status columns now because they are dependant variables"
   ]
  },
  {
   "cell_type": "markdown",
   "metadata": {},
   "source": [
    "## Exploratory Data Analysis"
   ]
  },
  {
   "cell_type": "code",
   "execution_count": 133,
   "metadata": {},
   "outputs": [
    {
     "data": {
      "text/html": [
       "<div>\n",
       "<style scoped>\n",
       "    .dataframe tbody tr th:only-of-type {\n",
       "        vertical-align: middle;\n",
       "    }\n",
       "\n",
       "    .dataframe tbody tr th {\n",
       "        vertical-align: top;\n",
       "    }\n",
       "\n",
       "    .dataframe thead th {\n",
       "        text-align: right;\n",
       "    }\n",
       "</style>\n",
       "<table border=\"1\" class=\"dataframe\">\n",
       "  <thead>\n",
       "    <tr style=\"text-align: right;\">\n",
       "      <th></th>\n",
       "      <th>age</th>\n",
       "      <th>district</th>\n",
       "      <th>region</th>\n",
       "      <th>population</th>\n",
       "      <th>no_cities</th>\n",
       "      <th>ratio_urban</th>\n",
       "      <th>avg_sal</th>\n",
       "      <th>unemp_95</th>\n",
       "      <th>unemp_96</th>\n",
       "      <th>no_enterp</th>\n",
       "      <th>...</th>\n",
       "      <th>days_loan_issued</th>\n",
       "      <th>months_loan_left</th>\n",
       "      <th>household payment</th>\n",
       "      <th>insurance payment</th>\n",
       "      <th>leasing</th>\n",
       "      <th>loan payment</th>\n",
       "      <th>card_type</th>\n",
       "      <th>days_ccard_issued</th>\n",
       "      <th>female</th>\n",
       "      <th>Creditworthy</th>\n",
       "    </tr>\n",
       "  </thead>\n",
       "  <tbody>\n",
       "    <tr>\n",
       "      <th>count</th>\n",
       "      <td>5369.000000</td>\n",
       "      <td>5369.000000</td>\n",
       "      <td>5369.000000</td>\n",
       "      <td>5.369000e+03</td>\n",
       "      <td>5369.000000</td>\n",
       "      <td>5369.000000</td>\n",
       "      <td>5369.000000</td>\n",
       "      <td>5369.000000</td>\n",
       "      <td>5369.000000</td>\n",
       "      <td>5369.000000</td>\n",
       "      <td>...</td>\n",
       "      <td>5369.000000</td>\n",
       "      <td>5369.000000</td>\n",
       "      <td>5369.000000</td>\n",
       "      <td>5369.000000</td>\n",
       "      <td>5369.000000</td>\n",
       "      <td>5369.000000</td>\n",
       "      <td>5369.000000</td>\n",
       "      <td>5369.000000</td>\n",
       "      <td>5369.000000</td>\n",
       "      <td>5369.000000</td>\n",
       "    </tr>\n",
       "    <tr>\n",
       "      <th>mean</th>\n",
       "      <td>45.801639</td>\n",
       "      <td>35.254796</td>\n",
       "      <td>3.505122</td>\n",
       "      <td>2.692806e+05</td>\n",
       "      <td>5.517974</td>\n",
       "      <td>69.240045</td>\n",
       "      <td>9510.758614</td>\n",
       "      <td>2.912486</td>\n",
       "      <td>3.490942</td>\n",
       "      <td>121.191097</td>\n",
       "      <td>...</td>\n",
       "      <td>127.374371</td>\n",
       "      <td>2.269678</td>\n",
       "      <td>3172.464891</td>\n",
       "      <td>155.487614</td>\n",
       "      <td>163.452822</td>\n",
       "      <td>694.782380</td>\n",
       "      <td>2.571987</td>\n",
       "      <td>77.716148</td>\n",
       "      <td>0.492643</td>\n",
       "      <td>0.159061</td>\n",
       "    </tr>\n",
       "    <tr>\n",
       "      <th>std</th>\n",
       "      <td>17.282283</td>\n",
       "      <td>21.801799</td>\n",
       "      <td>2.255235</td>\n",
       "      <td>3.590500e+05</td>\n",
       "      <td>2.940686</td>\n",
       "      <td>19.896870</td>\n",
       "      <td>1330.686689</td>\n",
       "      <td>1.889014</td>\n",
       "      <td>2.134924</td>\n",
       "      <td>23.106521</td>\n",
       "      <td>...</td>\n",
       "      <td>363.296790</td>\n",
       "      <td>8.866517</td>\n",
       "      <td>3028.367320</td>\n",
       "      <td>740.985600</td>\n",
       "      <td>663.172252</td>\n",
       "      <td>1820.400626</td>\n",
       "      <td>1.007094</td>\n",
       "      <td>239.195706</td>\n",
       "      <td>0.499992</td>\n",
       "      <td>0.365767</td>\n",
       "    </tr>\n",
       "    <tr>\n",
       "      <th>min</th>\n",
       "      <td>12.000000</td>\n",
       "      <td>0.000000</td>\n",
       "      <td>0.000000</td>\n",
       "      <td>4.282100e+04</td>\n",
       "      <td>1.000000</td>\n",
       "      <td>33.900000</td>\n",
       "      <td>8110.000000</td>\n",
       "      <td>0.290000</td>\n",
       "      <td>0.430000</td>\n",
       "      <td>81.000000</td>\n",
       "      <td>...</td>\n",
       "      <td>0.000000</td>\n",
       "      <td>-54.833333</td>\n",
       "      <td>0.000000</td>\n",
       "      <td>0.000000</td>\n",
       "      <td>0.000000</td>\n",
       "      <td>0.000000</td>\n",
       "      <td>0.000000</td>\n",
       "      <td>0.000000</td>\n",
       "      <td>0.000000</td>\n",
       "      <td>0.000000</td>\n",
       "    </tr>\n",
       "    <tr>\n",
       "      <th>25%</th>\n",
       "      <td>31.000000</td>\n",
       "      <td>17.000000</td>\n",
       "      <td>2.000000</td>\n",
       "      <td>8.888400e+04</td>\n",
       "      <td>4.000000</td>\n",
       "      <td>52.700000</td>\n",
       "      <td>8547.000000</td>\n",
       "      <td>1.600000</td>\n",
       "      <td>1.960000</td>\n",
       "      <td>105.000000</td>\n",
       "      <td>...</td>\n",
       "      <td>0.000000</td>\n",
       "      <td>0.000000</td>\n",
       "      <td>308.000000</td>\n",
       "      <td>0.000000</td>\n",
       "      <td>0.000000</td>\n",
       "      <td>0.000000</td>\n",
       "      <td>3.000000</td>\n",
       "      <td>0.000000</td>\n",
       "      <td>0.000000</td>\n",
       "      <td>0.000000</td>\n",
       "    </tr>\n",
       "    <tr>\n",
       "      <th>50%</th>\n",
       "      <td>45.000000</td>\n",
       "      <td>33.000000</td>\n",
       "      <td>4.000000</td>\n",
       "      <td>1.219470e+05</td>\n",
       "      <td>6.000000</td>\n",
       "      <td>63.100000</td>\n",
       "      <td>8980.000000</td>\n",
       "      <td>2.770000</td>\n",
       "      <td>3.470000</td>\n",
       "      <td>116.000000</td>\n",
       "      <td>...</td>\n",
       "      <td>0.000000</td>\n",
       "      <td>0.000000</td>\n",
       "      <td>2556.000000</td>\n",
       "      <td>0.000000</td>\n",
       "      <td>0.000000</td>\n",
       "      <td>0.000000</td>\n",
       "      <td>3.000000</td>\n",
       "      <td>0.000000</td>\n",
       "      <td>0.000000</td>\n",
       "      <td>0.000000</td>\n",
       "    </tr>\n",
       "    <tr>\n",
       "      <th>75%</th>\n",
       "      <td>59.000000</td>\n",
       "      <td>53.000000</td>\n",
       "      <td>6.000000</td>\n",
       "      <td>2.261220e+05</td>\n",
       "      <td>8.000000</td>\n",
       "      <td>85.600000</td>\n",
       "      <td>9897.000000</td>\n",
       "      <td>4.010000</td>\n",
       "      <td>4.790000</td>\n",
       "      <td>131.000000</td>\n",
       "      <td>...</td>\n",
       "      <td>0.000000</td>\n",
       "      <td>0.000000</td>\n",
       "      <td>4673.000000</td>\n",
       "      <td>0.000000</td>\n",
       "      <td>0.000000</td>\n",
       "      <td>0.000000</td>\n",
       "      <td>3.000000</td>\n",
       "      <td>0.000000</td>\n",
       "      <td>1.000000</td>\n",
       "      <td>0.000000</td>\n",
       "    </tr>\n",
       "    <tr>\n",
       "      <th>max</th>\n",
       "      <td>88.000000</td>\n",
       "      <td>76.000000</td>\n",
       "      <td>7.000000</td>\n",
       "      <td>1.204953e+06</td>\n",
       "      <td>11.000000</td>\n",
       "      <td>100.000000</td>\n",
       "      <td>12541.000000</td>\n",
       "      <td>7.340000</td>\n",
       "      <td>9.400000</td>\n",
       "      <td>167.000000</td>\n",
       "      <td>...</td>\n",
       "      <td>2005.000000</td>\n",
       "      <td>59.233333</td>\n",
       "      <td>14882.000000</td>\n",
       "      <td>12504.000000</td>\n",
       "      <td>4975.200000</td>\n",
       "      <td>9910.000000</td>\n",
       "      <td>3.000000</td>\n",
       "      <td>1880.000000</td>\n",
       "      <td>1.000000</td>\n",
       "      <td>1.000000</td>\n",
       "    </tr>\n",
       "  </tbody>\n",
       "</table>\n",
       "<p>8 rows × 25 columns</p>\n",
       "</div>"
      ],
      "text/plain": [
       "               age     district       region    population    no_cities  \\\n",
       "count  5369.000000  5369.000000  5369.000000  5.369000e+03  5369.000000   \n",
       "mean     45.801639    35.254796     3.505122  2.692806e+05     5.517974   \n",
       "std      17.282283    21.801799     2.255235  3.590500e+05     2.940686   \n",
       "min      12.000000     0.000000     0.000000  4.282100e+04     1.000000   \n",
       "25%      31.000000    17.000000     2.000000  8.888400e+04     4.000000   \n",
       "50%      45.000000    33.000000     4.000000  1.219470e+05     6.000000   \n",
       "75%      59.000000    53.000000     6.000000  2.261220e+05     8.000000   \n",
       "max      88.000000    76.000000     7.000000  1.204953e+06    11.000000   \n",
       "\n",
       "       ratio_urban       avg_sal     unemp_95     unemp_96    no_enterp  ...  \\\n",
       "count  5369.000000   5369.000000  5369.000000  5369.000000  5369.000000  ...   \n",
       "mean     69.240045   9510.758614     2.912486     3.490942   121.191097  ...   \n",
       "std      19.896870   1330.686689     1.889014     2.134924    23.106521  ...   \n",
       "min      33.900000   8110.000000     0.290000     0.430000    81.000000  ...   \n",
       "25%      52.700000   8547.000000     1.600000     1.960000   105.000000  ...   \n",
       "50%      63.100000   8980.000000     2.770000     3.470000   116.000000  ...   \n",
       "75%      85.600000   9897.000000     4.010000     4.790000   131.000000  ...   \n",
       "max     100.000000  12541.000000     7.340000     9.400000   167.000000  ...   \n",
       "\n",
       "       days_loan_issued  months_loan_left  household payment  \\\n",
       "count       5369.000000       5369.000000        5369.000000   \n",
       "mean         127.374371          2.269678        3172.464891   \n",
       "std          363.296790          8.866517        3028.367320   \n",
       "min            0.000000        -54.833333           0.000000   \n",
       "25%            0.000000          0.000000         308.000000   \n",
       "50%            0.000000          0.000000        2556.000000   \n",
       "75%            0.000000          0.000000        4673.000000   \n",
       "max         2005.000000         59.233333       14882.000000   \n",
       "\n",
       "       insurance payment      leasing  loan payment    card_type  \\\n",
       "count        5369.000000  5369.000000   5369.000000  5369.000000   \n",
       "mean          155.487614   163.452822    694.782380     2.571987   \n",
       "std           740.985600   663.172252   1820.400626     1.007094   \n",
       "min             0.000000     0.000000      0.000000     0.000000   \n",
       "25%             0.000000     0.000000      0.000000     3.000000   \n",
       "50%             0.000000     0.000000      0.000000     3.000000   \n",
       "75%             0.000000     0.000000      0.000000     3.000000   \n",
       "max         12504.000000  4975.200000   9910.000000     3.000000   \n",
       "\n",
       "       days_ccard_issued       female  Creditworthy  \n",
       "count        5369.000000  5369.000000   5369.000000  \n",
       "mean           77.716148     0.492643      0.159061  \n",
       "std           239.195706     0.499992      0.365767  \n",
       "min             0.000000     0.000000      0.000000  \n",
       "25%             0.000000     0.000000      0.000000  \n",
       "50%             0.000000     0.000000      0.000000  \n",
       "75%             0.000000     1.000000      0.000000  \n",
       "max          1880.000000     1.000000      1.000000  \n",
       "\n",
       "[8 rows x 25 columns]"
      ]
     },
     "execution_count": 133,
     "metadata": {},
     "output_type": "execute_result"
    }
   ],
   "source": [
    "credit_data.describe()"
   ]
  },
  {
   "cell_type": "code",
   "execution_count": 134,
   "metadata": {},
   "outputs": [
    {
     "data": {
      "image/png": "[encoded data removed]",
      "text/plain": [
       "<Figure size 1152x648 with 1 Axes>"
      ]
     },
     "metadata": {},
     "output_type": "display_data"
    }
   ],
   "source": [
    "# count plot of region column\n",
    "sns.countplot(x ='region', data = credit, dodge='True')\n",
    "\n",
    "plt.xticks(rotation=45)\n",
    " \n",
    "# Show the plot\n",
    "plt.show()"
   ]
  },
  {
   "cell_type": "markdown",
   "metadata": {},
   "source": [
    "The distribution is almost even across the regions"
   ]
  },
  {
   "cell_type": "code",
   "execution_count": 135,
   "metadata": {},
   "outputs": [
    {
     "data": {
      "image/png": "[encoded data removed]",
      "text/plain": [
       "<Figure size 1152x648 with 1 Axes>"
      ]
     },
     "metadata": {},
     "output_type": "display_data"
    }
   ],
   "source": [
    "# count plot of age column\n",
    "plt.hist(credit['age'], bins = 100) \n",
    "  \n",
    "# Display the plot \n",
    "plt.show()"
   ]
  },
  {
   "cell_type": "markdown",
   "metadata": {},
   "source": [
    "Age distribution of clients are normally distributed but is skewed to the left with under 60's forming the majority"
   ]
  },
  {
   "cell_type": "code",
   "execution_count": 136,
   "metadata": {},
   "outputs": [
    {
     "data": {
      "image/png": "[encoded data removed]",
      "text/plain": [
       "<Figure size 1152x648 with 1 Axes>"
      ]
     },
     "metadata": {},
     "output_type": "display_data"
    }
   ],
   "source": [
    "# count plot of loan status column\n",
    "sns.countplot(x ='loan_status', data = credit, dodge='True')\n",
    " \n",
    "# Show the plot\n",
    "plt.show()"
   ]
  },
  {
   "cell_type": "markdown",
   "metadata": {},
   "source": [
    "The above shows majority of customers are not in arrears or in default. So most customers who were given a loan are likely to be good customers."
   ]
  },
  {
   "cell_type": "markdown",
   "metadata": {},
   "source": [
    "## Feature Selection & Engineering"
   ]
  },
  {
   "cell_type": "markdown",
   "metadata": {},
   "source": [
    "### Filter Method: Step 1"
   ]
  },
  {
   "cell_type": "code",
   "execution_count": 137,
   "metadata": {},
   "outputs": [
    {
     "data": {
      "text/plain": [
       "Index(['age', 'district', 'region', 'population', 'no_cities', 'ratio_urban',\n",
       "       'avg_sal', 'unemp_95', 'unemp_96', 'no_enterp', 'no_crimes95',\n",
       "       'no_crimes96', 'monthly_income', 'monthly_spending', 'loan_term',\n",
       "       'days_loan_issued', 'months_loan_left', 'household payment',\n",
       "       'insurance payment', 'leasing', 'loan payment', 'card_type',\n",
       "       'days_ccard_issued', 'female'],\n",
       "      dtype='object')"
      ]
     },
     "execution_count": 137,
     "metadata": {},
     "output_type": "execute_result"
    }
   ],
   "source": [
    "feature_cols = credit_data.columns[1:].drop(['Creditworthy'])\n",
    "\n",
    "feature_cols"
   ]
  },
  {
   "cell_type": "code",
   "execution_count": 138,
   "metadata": {},
   "outputs": [],
   "source": [
    "X = credit_data[feature_cols]\n",
    "y = credit_data['Creditworthy']"
   ]
  },
  {
   "cell_type": "code",
   "execution_count": 139,
   "metadata": {},
   "outputs": [
    {
     "name": "stdout",
     "output_type": "stream",
     "text": [
      "card_type           -0.244000\n",
      "age                 -0.124882\n",
      "region              -0.024023\n",
      "no_cities           -0.010799\n",
      "female              -0.009898\n",
      "ratio_urban          0.001633\n",
      "unemp_95             0.004763\n",
      "no_crimes96          0.006804\n",
      "no_crimes95          0.007021\n",
      "population           0.007188\n",
      "avg_sal              0.010288\n",
      "unemp_96             0.010701\n",
      "no_enterp            0.014874\n",
      "district             0.031874\n",
      "household payment    0.080592\n",
      "insurance payment    0.126570\n",
      "months_loan_left     0.145240\n",
      "leasing              0.147680\n",
      "days_ccard_issued    0.233379\n",
      "loan_term            0.234760\n",
      "days_loan_issued     0.253009\n",
      "monthly_spending     0.260129\n",
      "loan payment         0.266407\n",
      "monthly_income       0.637520\n",
      "dtype: float64\n"
     ]
    }
   ],
   "source": [
    "importances = X.apply(lambda x: x.corr(y))\n",
    "indices = np.argsort(importances)\n",
    "print(importances[indices])"
   ]
  },
  {
   "cell_type": "code",
   "execution_count": 140,
   "metadata": {},
   "outputs": [
    {
     "data": {
      "image/png": "[encoded data removed]",
      "text/plain": [
       "<Figure size 1152x648 with 1 Axes>"
      ]
     },
     "metadata": {},
     "output_type": "display_data"
    }
   ],
   "source": [
    "names=feature_cols\n",
    "plt.title('Creditworthy')\n",
    "plt.barh(range(len(indices)), importances[indices], color='g', align='center')\n",
    "plt.yticks(range(len(indices)), [names[i] for i in indices])\n",
    "plt.xlabel('Relative Importance')\n",
    "plt.show()"
   ]
  },
  {
   "cell_type": "markdown",
   "metadata": {},
   "source": [
    "We want to keep features with only a high correlation with the target variable. This implies that the input feature has a high influence in predicting the target variable.\n",
    "We set the threshold to the absolute value of 0.1. We keep input features only if the correlation of the input feature with the target variable is greater than 0.1"
   ]
  },
  {
   "cell_type": "code",
   "execution_count": 141,
   "metadata": {},
   "outputs": [
    {
     "name": "stdout",
     "output_type": "stream",
     "text": [
      "age\n",
      "monthly_income\n",
      "monthly_spending\n",
      "loan_term\n",
      "days_loan_issued\n",
      "months_loan_left\n",
      "insurance payment\n",
      "leasing\n",
      "loan payment\n"
     ]
    }
   ],
   "source": [
    "for i in range(0, 21):\n",
    "    if np.abs(importances[i])>0.1:\n",
    "        print(names[i])"
   ]
  },
  {
   "cell_type": "markdown",
   "metadata": {},
   "source": [
    "### Filter Method: Step 2\n",
    "\n",
    "Identify input features that have a low correlation with other independent variables."
   ]
  },
  {
   "cell_type": "code",
   "execution_count": 142,
   "metadata": {},
   "outputs": [],
   "source": [
    "names = ['age','monthly_income', 'monthly_spending', 'loan_term', 'days_loan_issued', 'months_loan_left', \n",
    "         'insurance payment', 'leasing', 'loan payment']"
   ]
  },
  {
   "cell_type": "code",
   "execution_count": 143,
   "metadata": {},
   "outputs": [],
   "source": [
    "X = credit_data[names]"
   ]
  },
  {
   "cell_type": "code",
   "execution_count": 144,
   "metadata": {},
   "outputs": [
    {
     "name": "stdout",
     "output_type": "stream",
     "text": [
      "age  is not correlated  with  monthly_income\n",
      "age  is not correlated  with  monthly_spending\n",
      "age  is not correlated  with  loan_term\n",
      "age  is not correlated  with  days_loan_issued\n",
      "age  is not correlated  with  months_loan_left\n",
      "age  is not correlated  with  insurance payment\n",
      "age  is not correlated  with  leasing\n",
      "age  is not correlated  with  loan payment\n",
      "monthly_income  is not correlated  with  age\n",
      "monthly_income  is not correlated  with  months_loan_left\n",
      "monthly_income  is not correlated  with  insurance payment\n",
      "monthly_income  is not correlated  with  leasing\n",
      "monthly_spending  is not correlated  with  age\n",
      "monthly_spending  is not correlated  with  loan_term\n",
      "monthly_spending  is not correlated  with  days_loan_issued\n",
      "monthly_spending  is not correlated  with  months_loan_left\n",
      "monthly_spending  is not correlated  with  insurance payment\n",
      "monthly_spending  is not correlated  with  leasing\n",
      "monthly_spending  is not correlated  with  loan payment\n",
      "loan_term  is not correlated  with  age\n",
      "loan_term  is not correlated  with  monthly_spending\n",
      "loan_term  is highly  correlated  with  months_loan_left\n",
      "loan_term  is not correlated  with  insurance payment\n",
      "loan_term  is not correlated  with  leasing\n",
      "days_loan_issued  is not correlated  with  age\n",
      "days_loan_issued  is not correlated  with  monthly_spending\n",
      "days_loan_issued  is not correlated  with  months_loan_left\n",
      "days_loan_issued  is not correlated  with  insurance payment\n",
      "days_loan_issued  is not correlated  with  leasing\n",
      "months_loan_left  is not correlated  with  age\n",
      "months_loan_left  is not correlated  with  monthly_income\n",
      "months_loan_left  is not correlated  with  monthly_spending\n",
      "months_loan_left  is highly  correlated  with  loan_term\n",
      "months_loan_left  is not correlated  with  days_loan_issued\n",
      "months_loan_left  is not correlated  with  insurance payment\n",
      "months_loan_left  is not correlated  with  leasing\n",
      "insurance payment  is not correlated  with  age\n",
      "insurance payment  is not correlated  with  monthly_income\n",
      "insurance payment  is not correlated  with  monthly_spending\n",
      "insurance payment  is not correlated  with  loan_term\n",
      "insurance payment  is not correlated  with  days_loan_issued\n",
      "insurance payment  is not correlated  with  months_loan_left\n",
      "insurance payment  is not correlated  with  leasing\n",
      "insurance payment  is not correlated  with  loan payment\n",
      "leasing  is not correlated  with  age\n",
      "leasing  is not correlated  with  monthly_income\n",
      "leasing  is not correlated  with  monthly_spending\n",
      "leasing  is not correlated  with  loan_term\n",
      "leasing  is not correlated  with  days_loan_issued\n",
      "leasing  is not correlated  with  months_loan_left\n",
      "leasing  is not correlated  with  insurance payment\n",
      "leasing  is not correlated  with  loan payment\n",
      "loan payment  is not correlated  with  age\n",
      "loan payment  is not correlated  with  monthly_spending\n",
      "loan payment  is not correlated  with  insurance payment\n",
      "loan payment  is not correlated  with  leasing\n"
     ]
    }
   ],
   "source": [
    "for i in range(0,len(X.columns)):\n",
    "    for j in  range(0,len(X.columns)):\n",
    "        if i!=j:\n",
    "            corr_1=np.abs(X[X.columns[i]].corr(X[X.columns[j]]))\n",
    "            if corr_1 <0.3:\n",
    "                print( X.columns[i] , \" is not correlated  with \", X.columns[j])\n",
    "            elif corr_1>0.75:\n",
    "                print( X.columns[i] , \" is highly  correlated  with \", X.columns[j])"
   ]
  },
  {
   "cell_type": "markdown",
   "metadata": {},
   "source": [
    "### Filter Method: Step 3\n",
    "Find the information gain or mutual information of the independent variable with respect to a target variable"
   ]
  },
  {
   "cell_type": "code",
   "execution_count": 145,
   "metadata": {},
   "outputs": [
    {
     "name": "stderr",
     "output_type": "stream",
     "text": [
      "C:\\Users\\amath\\Anaconda3\\lib\\site-packages\\sklearn\\utils\\validation.py:595: DataConversionWarning: Data with input dtype int64 was converted to float64 by the scale function.\n",
      "  warnings.warn(msg, DataConversionWarning)\n"
     ]
    }
   ],
   "source": [
    "from sklearn.feature_selection import mutual_info_regression, mutual_info_classif\n",
    "\n",
    "# names=feature_cols.drop(['leasing','insurance payment','months_loan_left'])\n",
    "X = credit_data[names]\n",
    "\n",
    "mi = mutual_info_regression(X, y)"
   ]
  },
  {
   "cell_type": "code",
   "execution_count": 146,
   "metadata": {},
   "outputs": [
    {
     "data": {
      "text/plain": [
       "<AxesSubplot:>"
      ]
     },
     "execution_count": 146,
     "metadata": {},
     "output_type": "execute_result"
    },
    {
     "data": {
      "image/png": "[encoded data removed]",
      "text/plain": [
       "<Figure size 720x288 with 1 Axes>"
      ]
     },
     "metadata": {},
     "output_type": "display_data"
    }
   ],
   "source": [
    "# Plotting the mutual information\n",
    "\n",
    "mi = pd.Series(mi)\n",
    "mi.index = X.columns\n",
    "mi.sort_values(ascending=False)\n",
    "mi.sort_values(ascending=False).plot.bar(figsize=(10, 4))"
   ]
  },
  {
   "cell_type": "markdown",
   "metadata": {},
   "source": [
    "## Unsupervised Machine Learning Modelling"
   ]
  },
  {
   "cell_type": "markdown",
   "metadata": {},
   "source": [
    "### K-Means Clustering"
   ]
  },
  {
   "cell_type": "code",
   "execution_count": 151,
   "metadata": {},
   "outputs": [
    {
     "name": "stdout",
     "output_type": "stream",
     "text": [
      "targets     0    1\n",
      "labels            \n",
      "0        3570  124\n",
      "1         945  730\n"
     ]
    }
   ],
   "source": [
    "# Declaring Model\n",
    "model = KMeans(n_clusters=2, random_state = RANDOM_STATE)\n",
    "\n",
    "# Fitting Model\n",
    "labels = model.fit_predict(X)\n",
    "\n",
    "# Create a DataFrame with labels and targets as columns: df\n",
    "df = pd.DataFrame({'labels':labels, 'targets': y})\n",
    "\n",
    "# Create crosstab: ct\n",
    "ct = pd.crosstab(df[\"labels\"],df[\"targets\"])\n",
    "\n",
    "# Display ct\n",
    "print(ct)"
   ]
  },
  {
   "cell_type": "markdown",
   "metadata": {},
   "source": [
    "730 out of 854 customers were predicted correctly to be credit worthy. Hence, it's a good model to identify the most suitable customers to be offered a credit card product"
   ]
  },
  {
   "cell_type": "code",
   "execution_count": 152,
   "metadata": {},
   "outputs": [],
   "source": [
    "# Prediction on the entire data\n",
    "all_predictions = model.predict(X)"
   ]
  }
 ],
 "metadata": {
  "kernelspec": {
   "display_name": "Python 3",
   "language": "python",
   "name": "python3"
  },
  "language_info": {
   "codemirror_mode": {
    "name": "ipython",
    "version": 3
   },
   "file_extension": ".py",
   "mimetype": "text/x-python",
   "name": "python",
   "nbconvert_exporter": "python",
   "pygments_lexer": "ipython3",
   "version": "3.7.4"
  }
 },
 "nbformat": 4,
 "nbformat_minor": 4
}
